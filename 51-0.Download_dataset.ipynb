{
 "cells": [
  {
   "cell_type": "code",
   "execution_count": 9,
   "id": "8ddb89f0-6a71-46f6-9859-cbac89b24a15",
   "metadata": {},
   "outputs": [
    {
     "name": "stdout",
     "output_type": "stream",
     "text": [
      "The autoreload extension is already loaded. To reload it, use:\n",
      "  %reload_ext autoreload\n",
      "Change dataset_zoo_dir to /home/dhp/fiftyone\n",
      "['bdd100k', 'caltech101', 'caltech256', 'cifar10', 'cifar100', 'cityscapes', 'coco-2014', 'coco-2017', 'fashion-mnist', 'hmdb51', 'imagenet-2012', 'imagenet-sample', 'kitti', 'lfw', 'mnist', 'open-images-v6', 'quickstart', 'quickstart-geo', 'quickstart-video', 'ucf101', 'voc-2007', 'voc-2012']\n"
     ]
    }
   ],
   "source": [
    "%load_ext autoreload\n",
    "%autoreload 2\n",
    "\n",
    "import fiftyone.zoo as foz\n",
    "import fiftyone as fo\n",
    "import fiftyone.zoo as foz\n",
    "import config\n",
    "\n",
    "if config.DATASET_ZOO_DIR is not None:\n",
    "    fo.config.dataset_zoo_dir = config.DATASET_ZOO_DIR\n",
    "    print(f\"Change dataset_zoo_dir to {fo.config.dataset_zoo_dir}\")\n",
    "ds = foz.list_zoo_datasets()\n",
    "print(ds)"
   ]
  },
  {
   "cell_type": "code",
   "execution_count": 10,
   "id": "629cda93-01ed-428c-a5a8-19e924257f45",
   "metadata": {},
   "outputs": [
    {
     "name": "stdout",
     "output_type": "stream",
     "text": [
      "Downloading split 'train' to '/home/dhp/fiftyone/open-images-v6/train' if necessary\n",
      "Necessary images already downloaded\n",
      "Existing download of split 'train' is sufficient\n",
      "Downloading split 'test' to '/home/dhp/fiftyone/open-images-v6/test' if necessary\n",
      "Necessary images already downloaded\n",
      "Existing download of split 'test' is sufficient\n",
      "Downloading split 'validation' to '/home/dhp/fiftyone/open-images-v6/validation' if necessary\n",
      "Necessary images already downloaded\n",
      "Existing download of split 'validation' is sufficient\n",
      "Ignoring unsupported parameter 'download_if_neccessary' for importer type <class 'fiftyone.utils.openimages.OpenImagesV6DatasetImporter'>\n",
      "Loading 'open-images-v6' split 'train'\n",
      " 100% |███████████████| 8817/8817 [1.1m elapsed, 0s remaining, 118.3 samples/s]      \n",
      "Loading 'open-images-v6' split 'test'\n",
      " 100% |█████████████| 18185/18185 [2.7m elapsed, 0s remaining, 93.4 samples/s]       \n",
      "Loading 'open-images-v6' split 'validation'\n",
      " 100% |███████████████| 6062/6062 [52.8s elapsed, 0s remaining, 108.7 samples/s]      \n",
      "Dataset 'open-images-v6' created\n"
     ]
    },
    {
     "data": {
      "text/plain": [
       "Name:        open-images-v6\n",
       "Media type:  image\n",
       "Num samples: 33064\n",
       "Persistent:  True\n",
       "Tags:        ['test', 'train', 'validation']\n",
       "Sample fields:\n",
       "    id:             fiftyone.core.fields.ObjectIdField\n",
       "    filepath:       fiftyone.core.fields.StringField\n",
       "    tags:           fiftyone.core.fields.ListField(fiftyone.core.fields.StringField)\n",
       "    metadata:       fiftyone.core.fields.EmbeddedDocumentField(fiftyone.core.metadata.Metadata)\n",
       "    detections:     fiftyone.core.fields.EmbeddedDocumentField(fiftyone.core.labels.Detections)\n",
       "    open_images_id: fiftyone.core.fields.StringField"
      ]
     },
     "execution_count": 10,
     "metadata": {},
     "output_type": "execute_result"
    }
   ],
   "source": [
    "if config.DATASET_ZOO_NAME is None:\n",
    "    # Download all\n",
    "    ds = foz.list_zoo_datasets()\n",
    "    ds.remove('bdd100k')\n",
    "\n",
    "    for ds_name in ds:\n",
    "        try:\n",
    "            print(foz.download_zoo_dataset(ds_name))\n",
    "        except:\n",
    "            print('skip')\n",
    "else:\n",
    "    # Download specific dataset\n",
    "    dataset = foz.load_zoo_dataset(\n",
    "        name         = config.DATASET_ZOO_NAME,\n",
    "        splits       = config.DATASET_ZOO_SPLITS,\n",
    "        classes      = config.CLASSES_OF_INTEREST,\n",
    "        # dataset_name = config.DATASET_NAME,\n",
    "        label_types  = config.LABEL_TYPES,\n",
    "        cleanup      = True,\n",
    "        download_if_neccessary = True,\n",
    "        # overwrite    = True,\n",
    "        # max_samples=100,\n",
    "        # seed=51,\n",
    "        # shuffle=True,        \n",
    "    )\n",
    "\n",
    "dataset.persistent = True\n",
    "dataset"
   ]
  }
 ],
 "metadata": {
  "kernelspec": {
   "display_name": "Python 3 (ipykernel)",
   "language": "python",
   "name": "python3"
  },
  "language_info": {
   "codemirror_mode": {
    "name": "ipython",
    "version": 3
   },
   "file_extension": ".py",
   "mimetype": "text/x-python",
   "name": "python",
   "nbconvert_exporter": "python",
   "pygments_lexer": "ipython3",
   "version": "3.7.11"
  }
 },
 "nbformat": 4,
 "nbformat_minor": 5
}
