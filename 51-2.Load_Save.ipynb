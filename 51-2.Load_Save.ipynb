{
 "cells": [
  {
   "cell_type": "markdown",
   "id": "2bc4ef68-f80c-4239-b350-9fe81190eb6d",
   "metadata": {},
   "source": [
    "# Init"
   ]
  },
  {
   "cell_type": "code",
   "execution_count": 1,
   "id": "fc5edaca-42a2-4f2c-9bfb-3522d233ed6b",
   "metadata": {},
   "outputs": [],
   "source": [
    "%load_ext autoreload\n",
    "%autoreload 2\n",
    "\n",
    "import fiftyone as fo\n",
    "import fiftyone.zoo as foz\n",
    "from fiftyone import ViewField as F\n",
    "import fiftyone.brain as fob"
   ]
  },
  {
   "cell_type": "code",
   "execution_count": 4,
   "id": "da8c927d-150a-4ba7-87fa-64e766add51a",
   "metadata": {},
   "outputs": [],
   "source": [
    "from IPython.display import clear_output\n",
    "session = fo.launch_app()\n",
    "session.open_tab()\n",
    "clear_output()"
   ]
  },
  {
   "cell_type": "markdown",
   "id": "8c5c77fa-8197-43fc-96fe-281408945280",
   "metadata": {},
   "source": [
    "# Load dataset"
   ]
  },
  {
   "cell_type": "code",
   "execution_count": null,
   "id": "9611b58d-c4f4-4855-8101-9263dd696f99",
   "metadata": {},
   "outputs": [],
   "source": [
    "# # # load a dataset from the zoo and save to database\n",
    "\n",
    "# dataset = foz.load_zoo_dataset(\n",
    "#     \"open-images-v6\",\n",
    "#     splits=[\"test\", 'validation'],\n",
    "#     dataset_name=\"open-images-v6\",\n",
    "#     download_if_necessary=False,   \n",
    "# )\n",
    "\n",
    "# dataset.count_sample_tags()"
   ]
  },
  {
   "cell_type": "code",
   "execution_count": 5,
   "id": "a5c4915e-c0d5-4236-b3e0-ba4d52d77bde",
   "metadata": {},
   "outputs": [
    {
     "data": {
      "text/plain": [
       "Name:        open-image-vehicle_aug\n",
       "Media type:  image\n",
       "Num samples: 58653\n",
       "Persistent:  True\n",
       "Tags:        ['train', 'train_aug', 'validation', 'validation_aug']\n",
       "Sample fields:\n",
       "    id:                   fiftyone.core.fields.ObjectIdField\n",
       "    filepath:             fiftyone.core.fields.StringField\n",
       "    tags:                 fiftyone.core.fields.ListField(fiftyone.core.fields.StringField)\n",
       "    metadata:             fiftyone.core.fields.EmbeddedDocumentField(fiftyone.core.metadata.Metadata)\n",
       "    ground_truth:         fiftyone.core.fields.EmbeddedDocumentField(fiftyone.core.labels.Detections)\n",
       "    uniqueness:           fiftyone.core.fields.FloatField\n",
       "    lightness:            fiftyone.core.fields.FloatField\n",
       "    mistakenness_eval_tp: fiftyone.core.fields.IntField\n",
       "    mistakenness_eval_fp: fiftyone.core.fields.IntField\n",
       "    mistakenness_eval_fn: fiftyone.core.fields.IntField"
      ]
     },
     "execution_count": 5,
     "metadata": {},
     "output_type": "execute_result"
    }
   ],
   "source": [
    "# # Load existing dataset from the database\n",
    "\n",
    "dataset = fo.load_dataset(name=config.)"
   ]
  },
  {
   "cell_type": "code",
   "execution_count": null,
   "id": "86f6b916-af7b-418f-8cbb-ded10aab0f72",
   "metadata": {},
   "outputs": [],
   "source": [
    "# # # Load dataset from the directories\n",
    "\n",
    "# # Load the dataset, using tags to mark the samples in each split\n",
    "# dataset = fo.Dataset(config.DATASET_AUG_NAME)\n",
    "# for split in config.DATASET_AUG_SPLITS:\n",
    "#     dataset.add_dir(\n",
    "#         dataset_dir=config.EXPORT_DIR,\n",
    "#         dataset_type=config.EXPORT_DATASET_TYPE,\n",
    "#         split=split,\n",
    "#         tags=split,\n",
    "# )"
   ]
  },
  {
   "cell_type": "code",
   "execution_count": null,
   "id": "47f0978f-b4b4-4a86-b3d9-f4ba2fd39416",
   "metadata": {},
   "outputs": [],
   "source": [
    "# make dataset persistent\n",
    "# dataset.name = 'open-images-v6'\n",
    "dataset.persistent = True"
   ]
  },
  {
   "cell_type": "code",
   "execution_count": 7,
   "id": "563bb82d-48b4-4829-b475-18254df3cc14",
   "metadata": {
    "tags": []
   },
   "outputs": [],
   "source": [
    "session.view = dataset.view()\n",
    "clear_output()"
   ]
  },
  {
   "cell_type": "markdown",
   "id": "d6f937e7-efa8-4761-a2a7-f7043ad86ae4",
   "metadata": {
    "tags": []
   },
   "source": [
    "# Export data and labels"
   ]
  },
  {
   "cell_type": "code",
   "execution_count": null,
   "id": "ffc57562-ec49-4425-9d8f-9516ccdc8383",
   "metadata": {
    "tags": []
   },
   "outputs": [],
   "source": [
    "dataset.export(\n",
    "    export_dir=config.EXPORT_DIR,\n",
    "    dataset_type=config.EXPORT_DATASET_TYPE,\n",
    "    label_field=config.LABEL_FIELD,\n",
    "    classes=config.CLASSES_OF_INTEREST,\n",
    ")"
   ]
  },
  {
   "cell_type": "code",
   "execution_count": 8,
   "id": "b004b894-0f07-4954-8ddf-cf97d5f6e7c0",
   "metadata": {},
   "outputs": [
    {
     "name": "stdout",
     "output_type": "stream",
     "text": []
    },
    {
     "name": "stdout",
     "output_type": "stream",
     "text": [
      " 100% |█████████████| 15882/15882 [2.0m elapsed, 0s remaining, 249.3 samples/s]      \n",
      "Directory 'test_export2' already exists; export will be merged with existing files\n",
      " 100% |███████████████| 5299/5299 [40.5s elapsed, 0s remaining, 212.2 samples/s]      \n",
      "Directory 'test_export2' already exists; export will be merged with existing files\n",
      " 100% |█████████████| 28092/28092 [3.3m elapsed, 0s remaining, 225.3 samples/s]      \n",
      "Directory 'test_export2' already exists; export will be merged with existing files\n",
      " 100% |███████████████| 9380/9380 [1.3m elapsed, 0s remaining, 223.9 samples/s]       \n"
     ]
    }
   ],
   "source": [
    "dataset_or_view = dataset\n",
    "\n",
    "for split in dataset_or_view.count_sample_tags().keys():\n",
    "    print(f'Exporting {split}')\n",
    "    split_view = dataset_or_view.match_tags(split)\n",
    "\n",
    "    # Export the dataset\n",
    "    split_view.export(\n",
    "        export_dir=config.EXPORT_DIR,\n",
    "        dataset_type=config.EXPORT_DATASET_TYPE,\n",
    "        label_field=config.LABEL_FIELD,\n",
    "        classes=config.CLASSES_OF_INTEREST,\n",
    "        split=split,\n",
    "    )"
   ]
  }
 ],
 "metadata": {
  "kernelspec": {
   "display_name": "Python 3 (ipykernel)",
   "language": "python",
   "name": "python3"
  },
  "language_info": {
   "codemirror_mode": {
    "name": "ipython",
    "version": 3
   },
   "file_extension": ".py",
   "mimetype": "text/x-python",
   "name": "python",
   "nbconvert_exporter": "python",
   "pygments_lexer": "ipython3",
   "version": "3.7.11"
  }
 },
 "nbformat": 4,
 "nbformat_minor": 5
}
