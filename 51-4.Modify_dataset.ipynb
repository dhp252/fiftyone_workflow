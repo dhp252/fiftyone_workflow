{
 "cells": [
  {
   "cell_type": "markdown",
   "id": "2bc4ef68-f80c-4239-b350-9fe81190eb6d",
   "metadata": {},
   "source": [
    "# Init"
   ]
  },
  {
   "cell_type": "code",
   "execution_count": 1,
   "id": "fc5edaca-42a2-4f2c-9bfb-3522d233ed6b",
   "metadata": {},
   "outputs": [],
   "source": [
    "import fiftyone as fo\n",
    "import fiftyone.zoo as foz\n",
    "from fiftyone import ViewField as F\n",
    "import fiftyone.brain as fob"
   ]
  },
  {
   "cell_type": "code",
   "execution_count": 7,
   "id": "ecc40ada-0de6-479b-9634-0665f2d318f1",
   "metadata": {},
   "outputs": [],
   "source": [
    "# The directory to which to write the exported dataset\n",
    "EXPORT_DIR = \"test_export2\"\n",
    "\n",
    "# dataset_type = fo.types.COCODetectionDataset  # COCO\n",
    "EXPORT_DATASET_TYPE = fo.types.dataset_types.YOLOv5Dataset # YOLOv5\n",
    "\n",
    "# The name of the sample field containing the label that you wish to export\n",
    "# Used when exporting labeled datasets (e.g., classification or detection)\n",
    "LABEL_FIELD = \"ground_truth\"  # for example\n",
    "\n",
    "CLASSES_OF_INTEREST = [\"Motorcycle\", \"Car\", \"Truck\"]"
   ]
  },
  {
   "cell_type": "code",
   "execution_count": 2,
   "id": "3bcd731c-3a76-460c-abde-71c23c990c72",
   "metadata": {},
   "outputs": [
    {
     "name": "stdout",
     "output_type": "stream",
     "text": [
      "######### Available zoo dataset #########\n",
      "['bdd100k', 'caltech101', 'caltech256', 'cifar10', 'cifar100', 'cityscapes', 'coco-2014', 'coco-2017', 'fashion-mnist', 'hmdb51', 'imagenet-2012', 'imagenet-sample', 'kitti', 'lfw', 'mnist', 'open-images-v6', 'quickstart', 'quickstart-geo', 'quickstart-video', 'ucf101', 'voc-2007', 'voc-2012']\n",
      "\n",
      "######### Donwloaded zoo dataset #########\n",
      "{\n",
      "    'open-images-v6': (\n",
      "        '/home/dhp/fiftyone/open-images-v6',\n",
      "        <fiftyone.zoo.datasets.ZooDatasetInfo object at 0x7f88601cd1d0>,\n",
      "    ),\n",
      "}\n",
      "\n",
      "######### Dataset list #########\n",
      "['open-image-vehicle_aug', 'open-images-v6', 'open-images-v6-train-test-validation', 'open-images-v6_mod']\n"
     ]
    },
    {
     "data": {
      "text/plain": [
       "{'open-images-v6': ('/home/dhp/fiftyone/open-images-v6',\n",
       "  <fiftyone.zoo.datasets.ZooDatasetInfo at 0x7f88601d2490>)}"
      ]
     },
     "execution_count": 2,
     "metadata": {},
     "output_type": "execute_result"
    }
   ],
   "source": [
    "# List available zoo datasets\n",
    "print('######### Available zoo dataset #########')\n",
    "print(foz.list_zoo_datasets())\n",
    "print()\n",
    "\n",
    "print('######### Donwloaded zoo dataset #########')\n",
    "fo.pprint(foz.list_downloaded_zoo_datasets())\n",
    "print()\n",
    "\n",
    "print('######### Dataset list #########')\n",
    "print(fo.list_datasets())\n",
    "\n",
    "foz.list_downloaded_zoo_datasets()"
   ]
  },
  {
   "cell_type": "code",
   "execution_count": 4,
   "id": "da8c927d-150a-4ba7-87fa-64e766add51a",
   "metadata": {},
   "outputs": [],
   "source": [
    "from IPython.display import clear_output\n",
    "session = fo.launch_app()\n",
    "# session.open_tab()\n",
    "clear_output()"
   ]
  },
  {
   "cell_type": "markdown",
   "id": "4440d70f-4922-421e-87c6-a72d58e97c15",
   "metadata": {},
   "source": [
    "# Delete dataset"
   ]
  },
  {
   "cell_type": "code",
   "execution_count": 4,
   "id": "f178d553-1516-430a-abc1-55c8aa59a69a",
   "metadata": {},
   "outputs": [],
   "source": [
    "# # delete a dataset\n",
    "fo.delete_dataset(name='open-image-vehicle_aug')"
   ]
  },
  {
   "cell_type": "markdown",
   "id": "8c5c77fa-8197-43fc-96fe-281408945280",
   "metadata": {},
   "source": [
    "# Load dataset"
   ]
  },
  {
   "cell_type": "code",
   "execution_count": null,
   "id": "9611b58d-c4f4-4855-8101-9263dd696f99",
   "metadata": {},
   "outputs": [],
   "source": [
    "# # # load a dataset from the zoo and save to database\n",
    "\n",
    "# dataset = foz.load_zoo_dataset(\n",
    "#     \"open-images-v6\",\n",
    "#     splits=[\"test\", 'validation'],\n",
    "#     dataset_name=\"open-images-v6\",\n",
    "#     download_if_necessary=False,   \n",
    "# )\n",
    "# dataset_or_view = dataset\n",
    "# dataset_or_view"
   ]
  },
  {
   "cell_type": "code",
   "execution_count": 5,
   "id": "a5c4915e-c0d5-4236-b3e0-ba4d52d77bde",
   "metadata": {},
   "outputs": [
    {
     "data": {
      "text/plain": [
       "Name:        open-image-vehicle_aug\n",
       "Media type:  image\n",
       "Num samples: 58653\n",
       "Persistent:  True\n",
       "Tags:        ['train', 'train_aug', 'validation', 'validation_aug']\n",
       "Sample fields:\n",
       "    id:                   fiftyone.core.fields.ObjectIdField\n",
       "    filepath:             fiftyone.core.fields.StringField\n",
       "    tags:                 fiftyone.core.fields.ListField(fiftyone.core.fields.StringField)\n",
       "    metadata:             fiftyone.core.fields.EmbeddedDocumentField(fiftyone.core.metadata.Metadata)\n",
       "    ground_truth:         fiftyone.core.fields.EmbeddedDocumentField(fiftyone.core.labels.Detections)\n",
       "    uniqueness:           fiftyone.core.fields.FloatField\n",
       "    lightness:            fiftyone.core.fields.FloatField\n",
       "    mistakenness_eval_tp: fiftyone.core.fields.IntField\n",
       "    mistakenness_eval_fp: fiftyone.core.fields.IntField\n",
       "    mistakenness_eval_fn: fiftyone.core.fields.IntField"
      ]
     },
     "execution_count": 5,
     "metadata": {},
     "output_type": "execute_result"
    }
   ],
   "source": [
    "# # Load existing dataset from the database\n",
    "\n",
    "dataset = fo.load_dataset(name=\"open-image-vehicle_aug\")\n",
    "dataset_or_view = dataset\n",
    "dataset_or_view"
   ]
  },
  {
   "cell_type": "code",
   "execution_count": null,
   "id": "86f6b916-af7b-418f-8cbb-ded10aab0f72",
   "metadata": {},
   "outputs": [],
   "source": [
    "# # # Load dataset from the directories\n",
    "\n",
    "# name = \"open-image-vehicle_aug\"\n",
    "# dataset_dir = \"test_export\"\n",
    "\n",
    "# # The splits to load\n",
    "# splits = [\"train\", \"validation\",\"train_aug\", \"validation_aug\"]\n",
    "\n",
    "# # Load the dataset, using tags to mark the samples in each split\n",
    "# dataset = fo.Dataset(name)\n",
    "# for split in splits:\n",
    "#     dataset.add_dir(\n",
    "#         dataset_dir=dataset_dir,\n",
    "#         dataset_type=fo.types.YOLOv5Dataset,\n",
    "#         split=split,\n",
    "#         tags=split,\n",
    "# )\n",
    "\n",
    "# # View summary info about the dataset\n",
    "# dataset_or_view = dataset\n",
    "# dataset"
   ]
  },
  {
   "cell_type": "code",
   "execution_count": null,
   "id": "ec95f86a-5032-45cf-8aac-def321a4693e",
   "metadata": {},
   "outputs": [],
   "source": [
    "# dataset.default_classes"
   ]
  },
  {
   "cell_type": "code",
   "execution_count": null,
   "id": "44a19c8c-44a7-4c5e-8a10-aea8852a5e5a",
   "metadata": {},
   "outputs": [],
   "source": [
    "# dataset.save()"
   ]
  },
  {
   "cell_type": "code",
   "execution_count": null,
   "id": "47f0978f-b4b4-4a86-b3d9-f4ba2fd39416",
   "metadata": {},
   "outputs": [],
   "source": [
    "# make dataset persistent\n",
    "# dataset.name = 'open-images-v6'\n",
    "dataset.persistent = True"
   ]
  },
  {
   "cell_type": "code",
   "execution_count": null,
   "id": "49a23f25-585f-4f3d-a187-c2721fcf3635",
   "metadata": {},
   "outputs": [],
   "source": [
    "view = dataset.filter_labels(LABEL_FIELD, F(\"label\").is_in(CLASSES_OF_INTEREST))\n",
    "# view = view.match_tags('validation')\n",
    "dataset_or_view = view"
   ]
  },
  {
   "cell_type": "code",
   "execution_count": 7,
   "id": "563bb82d-48b4-4829-b475-18254df3cc14",
   "metadata": {},
   "outputs": [],
   "source": [
    "session.view = dataset_or_view.view()\n",
    "clear_output()"
   ]
  },
  {
   "cell_type": "markdown",
   "id": "575d38d0-ab08-463e-852e-eedc6095737d",
   "metadata": {},
   "source": [
    "# Modify dataset"
   ]
  },
  {
   "cell_type": "code",
   "execution_count": null,
   "id": "971f9716-1a87-495c-a63f-5c6e2642beef",
   "metadata": {},
   "outputs": [],
   "source": [
    "# rename datsset name\n",
    "dataset.name = 'open-images-v6'"
   ]
  },
  {
   "cell_type": "markdown",
   "id": "4e111a33-9ba4-49ec-8772-381ebd5e1980",
   "metadata": {},
   "source": [
    "# Export data and labels"
   ]
  },
  {
   "cell_type": "code",
   "execution_count": null,
   "id": "08a8e610-65ff-43f4-934f-b9735fbdaeb0",
   "metadata": {},
   "outputs": [],
   "source": [
    "dataset_or_view.export(\n",
    "    export_dir=EXPORT_DIR,\n",
    "    dataset_type=EXPORT_DATASET_TYPE,\n",
    "    label_field=LABEL_FIELD,\n",
    "    classes=CLASSES_OF_INTEREST,\n",
    ")"
   ]
  },
  {
   "cell_type": "code",
   "execution_count": 8,
   "id": "329a4bb1-ed89-4f4a-aa6b-e71a4b7dd7f5",
   "metadata": {},
   "outputs": [
    {
     "data": {
      "text/plain": [
       "{'train_aug': 28092,\n",
       " 'validation_aug': 9380,\n",
       " 'train': 15882,\n",
       " 'validation': 5299}"
      ]
     },
     "execution_count": 8,
     "metadata": {},
     "output_type": "execute_result"
    }
   ],
   "source": [
    "dataset.count_sample_tags()"
   ]
  },
  {
   "cell_type": "code",
   "execution_count": 8,
   "id": "41db025f-f903-4658-baef-2401feb02914",
   "metadata": {},
   "outputs": [
    {
     "name": "stdout",
     "output_type": "stream",
     "text": []
    },
    {
     "name": "stdout",
     "output_type": "stream",
     "text": [
      " 100% |█████████████| 15882/15882 [2.0m elapsed, 0s remaining, 249.3 samples/s]      \n",
      "Directory 'test_export2' already exists; export will be merged with existing files\n",
      " 100% |███████████████| 5299/5299 [40.5s elapsed, 0s remaining, 212.2 samples/s]      \n",
      "Directory 'test_export2' already exists; export will be merged with existing files\n",
      " 100% |█████████████| 28092/28092 [3.3m elapsed, 0s remaining, 225.3 samples/s]      \n",
      "Directory 'test_export2' already exists; export will be merged with existing files\n",
      " 100% |███████████████| 9380/9380 [1.3m elapsed, 0s remaining, 223.9 samples/s]       \n"
     ]
    }
   ],
   "source": [
    "dataset_or_view = dataset\n",
    "\n",
    "for split in [\n",
    "        'train', \n",
    "        # 'test',\n",
    "        'validation',\n",
    "        'train_aug',\n",
    "        'validation_aug',\n",
    "        ]:\n",
    "    split_view = dataset_or_view.match_tags(split)\n",
    "\n",
    "    # Export the dataset\n",
    "    split_view.export(\n",
    "        export_dir=EXPORT_DIR,\n",
    "        dataset_type=EXPORT_DATASET_TYPE,\n",
    "        label_field=LABEL_FIELD,\n",
    "        classes=CLASSES_OF_INTEREST,\n",
    "        split=split,\n",
    "    )"
   ]
  },
  {
   "cell_type": "markdown",
   "id": "d3517a82-c5e0-481d-a723-aa6b86c7920f",
   "metadata": {},
   "source": [
    "# Modify dataset and save to database"
   ]
  },
  {
   "cell_type": "markdown",
   "id": "6df46f26-3fa9-4795-8882-89a51490d781",
   "metadata": {
    "tags": []
   },
   "source": [
    "## Modify sample tags\n",
    "See more: https://voxel51.com/docs/fiftyone/user_guide/using_views.html#tagging-contents"
   ]
  },
  {
   "cell_type": "code",
   "execution_count": null,
   "id": "bc3d67c9-cead-4378-aff6-87b5cb0362f6",
   "metadata": {},
   "outputs": [],
   "source": [
    "# remove pre-existing tags\n",
    "dataset.untag_samples(\"test\") "
   ]
  },
  {
   "cell_type": "code",
   "execution_count": null,
   "id": "62dbcd5b-4e84-4847-8480-621bc5b82e93",
   "metadata": {},
   "outputs": [],
   "source": [
    "# replace tag\n",
    "dataset.match_tags(\"test\").tag_samples(\"train\")\n",
    "dataset.match_tags(\"test\").untag_samples(\"test\")"
   ]
  },
  {
   "cell_type": "code",
   "execution_count": null,
   "id": "9248f32e-8454-448e-b3d2-7186f66b8bd5",
   "metadata": {},
   "outputs": [],
   "source": [
    "dataset"
   ]
  },
  {
   "cell_type": "code",
   "execution_count": null,
   "id": "596c842a-f71d-484b-ba4a-05ce1e0cb90c",
   "metadata": {},
   "outputs": [],
   "source": [
    "# Perform a random 90-10 test-train split\n",
    "dataset.take(0.1 * len(dataset)).tag_samples(\"test\")\n",
    "dataset.match_tags(\"test\", bool=False).tag_samples(\"train\")\n",
    "\n",
    "print(dataset.count_sample_tags())\n",
    "# {'train': 180, 'test': 20}"
   ]
  },
  {
   "cell_type": "markdown",
   "id": "4d2697b3-941e-4bae-8f3a-0935f8caf17b",
   "metadata": {},
   "source": [
    "## Modify classes"
   ]
  },
  {
   "cell_type": "code",
   "execution_count": null,
   "id": "7084ff3c-70c4-4d7e-90ca-baf209c5b92a",
   "metadata": {},
   "outputs": [],
   "source": [
    "# lower all classes\n",
    "# dataset.default_classes = [i.lower() for i in dataset.default_classes]\n",
    "# dataset.default_classes[:3]\n",
    "\n",
    "\n",
    "# TODO: add modify labels in the samples."
   ]
  },
  {
   "cell_type": "code",
   "execution_count": null,
   "id": "1fa175c1-9afa-485e-ba16-cded86ea36e4",
   "metadata": {},
   "outputs": [],
   "source": [
    "dataset"
   ]
  },
  {
   "cell_type": "code",
   "execution_count": null,
   "id": "16e86834-9efb-4235-832a-0dba9eb44b35",
   "metadata": {},
   "outputs": [],
   "source": [
    "# save to database\n",
    "dataset.save()"
   ]
  },
  {
   "cell_type": "code",
   "execution_count": null,
   "id": "b3403369-2af1-49a4-b919-0f9766025633",
   "metadata": {},
   "outputs": [],
   "source": [
    "session = fo.launch_app(dataset)\n",
    "clear_output()"
   ]
  },
  {
   "cell_type": "markdown",
   "id": "c010ca77-8802-4fe3-8847-bb8034335681",
   "metadata": {
    "tags": []
   },
   "source": [
    "# Delete by"
   ]
  },
  {
   "cell_type": "code",
   "execution_count": null,
   "id": "0f7d2e2d-6495-42ee-a6d9-bfba6ec5fc6c",
   "metadata": {},
   "outputs": [],
   "source": [
    "## ONLY RUN THIS RIGHT AFTER EXPORT"
   ]
  },
  {
   "cell_type": "code",
   "execution_count": null,
   "id": "ef8decea-90bd-4a77-8479-da00926dcc2d",
   "metadata": {},
   "outputs": [],
   "source": [
    "! pip install tqdm"
   ]
  },
  {
   "cell_type": "code",
   "execution_count": null,
   "id": "bd640010-a79c-4269-b5fd-44692f770873",
   "metadata": {},
   "outputs": [],
   "source": [
    "from tqdm import tqdm\n",
    "\n",
    "for sample in tqdm(dataset.iter_samples()):\n",
    "    sample.tags==['delete']\n",
    "# print(cnt)"
   ]
  },
  {
   "cell_type": "markdown",
   "id": "0adb7a5e-685f-47bf-a3a7-08fbc8b1be19",
   "metadata": {},
   "source": [
    "## Sample Tag"
   ]
  },
  {
   "cell_type": "code",
   "execution_count": null,
   "id": "b517812e-cf82-48ed-be05-c0323905581d",
   "metadata": {},
   "outputs": [],
   "source": [
    "v1 = dataset.match_tags(\"delete\")"
   ]
  },
  {
   "cell_type": "code",
   "execution_count": null,
   "id": "357013cb-87f9-488f-a531-8205b073e5b3",
   "metadata": {},
   "outputs": [],
   "source": [
    "dataset.delete_samples(v1)"
   ]
  },
  {
   "cell_type": "code",
   "execution_count": null,
   "id": "03d4a97a-b258-426e-a193-9c0787d675db",
   "metadata": {},
   "outputs": [],
   "source": [
    "dataset.save()\n",
    "dataset"
   ]
  },
  {
   "cell_type": "markdown",
   "id": "782a82f3-ffcf-424b-92c4-74a247a07af1",
   "metadata": {},
   "source": [
    "## Label Tag"
   ]
  },
  {
   "cell_type": "code",
   "execution_count": null,
   "id": "6bff3877-360e-4596-8ec6-1291af903374",
   "metadata": {},
   "outputs": [],
   "source": [
    "v1 = dataset.filter_labels('ground_truth',F('tags')==['tag_delete'])"
   ]
  },
  {
   "cell_type": "code",
   "execution_count": null,
   "id": "b6806e12-ef72-433d-8fa4-fdf99320b41a",
   "metadata": {},
   "outputs": [],
   "source": [
    "dataset.delete_samples(v1)"
   ]
  },
  {
   "cell_type": "code",
   "execution_count": null,
   "id": "220bdabc-4a20-40bc-9578-6c101ed4014f",
   "metadata": {},
   "outputs": [],
   "source": [
    "dataset.save()\n",
    "dataset"
   ]
  }
 ],
 "metadata": {
  "kernelspec": {
   "display_name": "Python 3 (ipykernel)",
   "language": "python",
   "name": "python3"
  },
  "language_info": {
   "codemirror_mode": {
    "name": "ipython",
    "version": 3
   },
   "file_extension": ".py",
   "mimetype": "text/x-python",
   "name": "python",
   "nbconvert_exporter": "python",
   "pygments_lexer": "ipython3",
   "version": "3.7.11"
  }
 },
 "nbformat": 4,
 "nbformat_minor": 5
}
