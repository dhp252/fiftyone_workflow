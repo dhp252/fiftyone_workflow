{
 "cells": [
  {
   "cell_type": "markdown",
   "id": "2bc4ef68-f80c-4239-b350-9fe81190eb6d",
   "metadata": {},
   "source": [
    "# Init"
   ]
  },
  {
   "cell_type": "code",
   "execution_count": 1,
   "id": "fc5edaca-42a2-4f2c-9bfb-3522d233ed6b",
   "metadata": {},
   "outputs": [
    {
     "ename": "ModuleNotFoundError",
     "evalue": "No module named 'fiftyone.zoo'",
     "output_type": "error",
     "traceback": [
      "\u001b[0;31m---------------------------------------------------------------------------\u001b[0m",
      "\u001b[0;31mModuleNotFoundError\u001b[0m                       Traceback (most recent call last)",
      "\u001b[0;32m/tmp/ipykernel_303824/134004699.py\u001b[0m in \u001b[0;36m<module>\u001b[0;34m\u001b[0m\n\u001b[1;32m      1\u001b[0m \u001b[0;32mimport\u001b[0m \u001b[0mfiftyone\u001b[0m \u001b[0;32mas\u001b[0m \u001b[0mfo\u001b[0m\u001b[0;34m\u001b[0m\u001b[0;34m\u001b[0m\u001b[0m\n\u001b[0;32m----> 2\u001b[0;31m \u001b[0;32mimport\u001b[0m \u001b[0mfiftyone\u001b[0m\u001b[0;34m.\u001b[0m\u001b[0mzoo\u001b[0m \u001b[0;32mas\u001b[0m \u001b[0mfoz\u001b[0m\u001b[0;34m\u001b[0m\u001b[0;34m\u001b[0m\u001b[0m\n\u001b[0m\u001b[1;32m      3\u001b[0m \u001b[0;32mfrom\u001b[0m \u001b[0mfiftyone\u001b[0m \u001b[0;32mimport\u001b[0m \u001b[0mViewField\u001b[0m \u001b[0;32mas\u001b[0m \u001b[0mF\u001b[0m\u001b[0;34m\u001b[0m\u001b[0;34m\u001b[0m\u001b[0m\n\u001b[1;32m      4\u001b[0m \u001b[0;32mimport\u001b[0m \u001b[0mfiftyone\u001b[0m\u001b[0;34m.\u001b[0m\u001b[0mbrain\u001b[0m \u001b[0;32mas\u001b[0m \u001b[0mfob\u001b[0m\u001b[0;34m\u001b[0m\u001b[0;34m\u001b[0m\u001b[0m\n",
      "\u001b[0;31mModuleNotFoundError\u001b[0m: No module named 'fiftyone.zoo'"
     ]
    }
   ],
   "source": [
    "import fiftyone as fo\n",
    "import fiftyone.zoo as foz\n",
    "from fiftyone import ViewField as F\n",
    "import fiftyone.brain as fob"
   ]
  },
  {
   "cell_type": "code",
   "execution_count": 7,
   "id": "ecc40ada-0de6-479b-9634-0665f2d318f1",
   "metadata": {},
   "outputs": [],
   "source": [
    "# The directory to which to write the exported dataset\n",
    "EXPORT_DIR = \"test_export2\"\n",
    "\n",
    "# dataset_type = fo.types.COCODetectionDataset  # COCO\n",
    "EXPORT_DATASET_TYPE = fo.types.dataset_types.YOLOv5Dataset # YOLOv5\n",
    "\n",
    "# The name of the sample field containing the label that you wish to export\n",
    "# Used when exporting labeled datasets (e.g., classification or detection)\n",
    "LABEL_FIELD = \"ground_truth\"  # for example\n",
    "\n",
    "CLASSES_OF_INTEREST = [\"Motorcycle\", \"Car\", \"Truck\"]"
   ]
  },
  {
   "cell_type": "code",
   "execution_count": 3,
   "id": "3bcd731c-3a76-460c-abde-71c23c990c72",
   "metadata": {},
   "outputs": [
    {
     "name": "stdout",
     "output_type": "stream",
     "text": [
      "######### Available zoo dataset #########\n",
      "['bdd100k', 'caltech101', 'caltech256', 'cifar10', 'cifar100', 'cityscapes', 'coco-2014', 'coco-2017', 'fashion-mnist', 'hmdb51', 'imagenet-2012', 'imagenet-sample', 'kitti', 'lfw', 'mnist', 'open-images-v6', 'quickstart', 'quickstart-geo', 'quickstart-video', 'ucf101', 'voc-2007', 'voc-2012']\n",
      "\n",
      "######### Donwloaded zoo dataset #########\n",
      "{\n",
      "    'coco-2017': (\n",
      "        '/home/dhp/fiftyone/coco-2017',\n",
      "        <fiftyone.zoo.datasets.ZooDatasetInfo object at 0x7f5fe45578d0>,\n",
      "    ),\n",
      "    'open-images-v6': (\n",
      "        '/home/dhp/fiftyone/open-images-v6',\n",
      "        <fiftyone.zoo.datasets.ZooDatasetInfo object at 0x7f5fe4562a10>,\n",
      "    ),\n",
      "}\n",
      "\n",
      "######### Dataset list #########\n",
      "['coco-2017-all', 'open-image-vehicle_aug']\n"
     ]
    }
   ],
   "source": [
    "# List available zoo datasets\n",
    "print('######### Available zoo dataset #########')\n",
    "print(foz.list_zoo_datasets())\n",
    "print()\n",
    "\n",
    "print('######### Donwloaded zoo dataset #########')\n",
    "fo.pprint(foz.list_downloaded_zoo_datasets())\n",
    "print()\n",
    "\n",
    "print('######### Dataset list #########')\n",
    "print(fo.list_datasets())\n"
   ]
  },
  {
   "cell_type": "code",
   "execution_count": 4,
   "id": "da8c927d-150a-4ba7-87fa-64e766add51a",
   "metadata": {},
   "outputs": [],
   "source": [
    "from IPython.display import clear_output\n",
    "session = fo.launch_app()\n",
    "# session.open_tab()\n",
    "clear_output()"
   ]
  },
  {
   "cell_type": "markdown",
   "id": "4440d70f-4922-421e-87c6-a72d58e97c15",
   "metadata": {},
   "source": [
    "# Delete dataset"
   ]
  },
  {
   "cell_type": "code",
   "execution_count": null,
   "id": "f178d553-1516-430a-abc1-55c8aa59a69a",
   "metadata": {},
   "outputs": [],
   "source": [
    "# # delete a dataset\n",
    "# fo.delete_dataset(name='open-image-vehicle_aug')"
   ]
  },
  {
   "cell_type": "markdown",
   "id": "8c5c77fa-8197-43fc-96fe-281408945280",
   "metadata": {},
   "source": [
    "# Load dataset"
   ]
  },
  {
   "cell_type": "code",
   "execution_count": null,
   "id": "9611b58d-c4f4-4855-8101-9263dd696f99",
   "metadata": {},
   "outputs": [],
   "source": [
    "# # # load a dataset from the zoo and save to database\n",
    "\n",
    "# dataset = foz.load_zoo_dataset(\n",
    "#     \"open-images-v6\",\n",
    "#     splits=[\"test\", 'validation'],\n",
    "#     dataset_name=\"open-images-v6\",\n",
    "#     download_if_necessary=False,   \n",
    "# )\n",
    "# dataset_or_view = dataset\n",
    "# dataset_or_view"
   ]
  },
  {
   "cell_type": "code",
   "execution_count": 5,
   "id": "a5c4915e-c0d5-4236-b3e0-ba4d52d77bde",
   "metadata": {},
   "outputs": [
    {
     "data": {
      "text/plain": [
       "Name:        open-image-vehicle_aug\n",
       "Media type:  image\n",
       "Num samples: 58653\n",
       "Persistent:  True\n",
       "Tags:        ['train', 'train_aug', 'validation', 'validation_aug']\n",
       "Sample fields:\n",
       "    id:                   fiftyone.core.fields.ObjectIdField\n",
       "    filepath:             fiftyone.core.fields.StringField\n",
       "    tags:                 fiftyone.core.fields.ListField(fiftyone.core.fields.StringField)\n",
       "    metadata:             fiftyone.core.fields.EmbeddedDocumentField(fiftyone.core.metadata.Metadata)\n",
       "    ground_truth:         fiftyone.core.fields.EmbeddedDocumentField(fiftyone.core.labels.Detections)\n",
       "    uniqueness:           fiftyone.core.fields.FloatField\n",
       "    lightness:            fiftyone.core.fields.FloatField\n",
       "    mistakenness_eval_tp: fiftyone.core.fields.IntField\n",
       "    mistakenness_eval_fp: fiftyone.core.fields.IntField\n",
       "    mistakenness_eval_fn: fiftyone.core.fields.IntField"
      ]
     },
     "execution_count": 5,
     "metadata": {},
     "output_type": "execute_result"
    }
   ],
   "source": [
    "# # Load existing dataset from the database\n",
    "\n",
    "dataset = fo.load_dataset(name=\"open-image-vehicle_aug\")\n",
    "dataset_or_view = dataset\n",
    "dataset_or_view"
   ]
  },
  {
   "cell_type": "code",
   "execution_count": null,
   "id": "86f6b916-af7b-418f-8cbb-ded10aab0f72",
   "metadata": {},
   "outputs": [],
   "source": [
    "# # # Load dataset from the directories\n",
    "\n",
    "# name = \"open-image-vehicle_aug\"\n",
    "# dataset_dir = \"test_export\"\n",
    "\n",
    "# # The splits to load\n",
    "# splits = [\"train\", \"validation\",\"train_aug\", \"validation_aug\"]\n",
    "\n",
    "# # Load the dataset, using tags to mark the samples in each split\n",
    "# dataset = fo.Dataset(name)\n",
    "# for split in splits:\n",
    "#     dataset.add_dir(\n",
    "#         dataset_dir=dataset_dir,\n",
    "#         dataset_type=fo.types.YOLOv5Dataset,\n",
    "#         split=split,\n",
    "#         tags=split,\n",
    "# )\n",
    "\n",
    "# # View summary info about the dataset\n",
    "# dataset_or_view = dataset\n",
    "# dataset"
   ]
  },
  {
   "cell_type": "code",
   "execution_count": null,
   "id": "ec95f86a-5032-45cf-8aac-def321a4693e",
   "metadata": {},
   "outputs": [],
   "source": [
    "# dataset.default_classes"
   ]
  },
  {
   "cell_type": "code",
   "execution_count": null,
   "id": "44a19c8c-44a7-4c5e-8a10-aea8852a5e5a",
   "metadata": {},
   "outputs": [],
   "source": [
    "# dataset.save()"
   ]
  },
  {
   "cell_type": "code",
   "execution_count": null,
   "id": "47f0978f-b4b4-4a86-b3d9-f4ba2fd39416",
   "metadata": {},
   "outputs": [],
   "source": [
    "# make dataset persistent\n",
    "# dataset.name = 'open-images-v6'\n",
    "dataset.persistent = True"
   ]
  },
  {
   "cell_type": "code",
   "execution_count": null,
   "id": "49a23f25-585f-4f3d-a187-c2721fcf3635",
   "metadata": {},
   "outputs": [],
   "source": [
    "view = dataset.filter_labels(LABEL_FIELD, F(\"label\").is_in(CLASSES_OF_INTEREST))\n",
    "# view = view.match_tags('validation')\n",
    "dataset_or_view = view"
   ]
  },
  {
   "cell_type": "code",
   "execution_count": 7,
   "id": "563bb82d-48b4-4829-b475-18254df3cc14",
   "metadata": {},
   "outputs": [],
   "source": [
    "session.view = dataset_or_view.view()\n",
    "clear_output()"
   ]
  },
  {
   "cell_type": "markdown",
   "id": "9cb379a0-1fc5-4f1e-8fa8-0ccf24cf2eb9",
   "metadata": {
    "tags": []
   },
   "source": [
    "# remove duplicates"
   ]
  },
  {
   "cell_type": "code",
   "execution_count": null,
   "id": "0c0ed6f9-64f6-40bb-822f-123c00ee964a",
   "metadata": {},
   "outputs": [],
   "source": [
    "import fiftyone.utils.eval as foue\n",
    "from fiftyone import ViewField as F\n",
    "\n",
    "IOU_THRES = 0.75\n",
    "\n",
    "foue.compute_max_ious(dataset_or_view, LABEL_FIELD, attr_name=\"max_iou\", classwise=True)\n",
    "\n",
    "# Retrieve detections that overlap above a chosen threshold\n",
    "dups_view = dataset_or_view.filter_labels(LABEL_FIELD, F(\"max_iou\") >= IOU_THRES)\n",
    "session.view = dups_view\n",
    "clear_output()"
   ]
  },
  {
   "cell_type": "code",
   "execution_count": null,
   "id": "104e244f-30f3-4126-b702-ee8546768936",
   "metadata": {
    "tags": []
   },
   "outputs": [],
   "source": [
    "dir(dups_view)"
   ]
  },
  {
   "cell_type": "code",
   "execution_count": null,
   "id": "56fcab17-5f34-44fb-a664-920669771b5c",
   "metadata": {},
   "outputs": [],
   "source": [
    "# After tagging in FiftyOne UI\n",
    "print(dataset.count_label_tags())"
   ]
  },
  {
   "cell_type": "code",
   "execution_count": null,
   "id": "1625dc93-58a0-4ffc-9e8f-2b904fc1a6f7",
   "metadata": {},
   "outputs": [],
   "source": [
    "dataset.delete_labels(tags=\"duplicate\")\n",
    "\n",
    "# Verify that tagged labels were deleted\n",
    "print(dataset.count_label_tags())"
   ]
  },
  {
   "cell_type": "markdown",
   "id": "8bfc520b-8cea-4075-91e4-35f5056bb843",
   "metadata": {},
   "source": [
    "# Calculate uniqueness\n"
   ]
  },
  {
   "cell_type": "code",
   "execution_count": null,
   "id": "a1fd4f26-b931-4111-a523-df2c5a49e15e",
   "metadata": {},
   "outputs": [],
   "source": [
    "fob.compute_uniqueness(dataset_or_view)"
   ]
  },
  {
   "cell_type": "code",
   "execution_count": null,
   "id": "9342f04d-23a6-4b4c-ad55-22170c085fab",
   "metadata": {},
   "outputs": [],
   "source": [
    "dataset.save()"
   ]
  },
  {
   "cell_type": "code",
   "execution_count": null,
   "id": "1319685d-83b4-4790-a466-4ee099b0eb9f",
   "metadata": {},
   "outputs": [],
   "source": [
    "unique_view = dataset.sort_by(\"uniqueness\")\n",
    "session.view = unique_view\n",
    "clear_output()"
   ]
  },
  {
   "cell_type": "markdown",
   "id": "1278059f-8940-48d0-9cd7-690b64cb1d98",
   "metadata": {},
   "source": [
    "# Calculate similarity\n"
   ]
  },
  {
   "cell_type": "code",
   "execution_count": null,
   "id": "8c6b3663-8bf3-4cf1-88aa-45f4d22db83d",
   "metadata": {},
   "outputs": [],
   "source": [
    "fob.compute_similarity(dataset_or_view, brain_key=\"image_sim\",)"
   ]
  },
  {
   "cell_type": "code",
   "execution_count": null,
   "id": "c85fb76f-8eb6-40bc-8ed7-7f01c199a72e",
   "metadata": {},
   "outputs": [],
   "source": [
    "dataset.save()"
   ]
  },
  {
   "cell_type": "markdown",
   "id": "f4387db2-e2cc-4657-b0c0-d8e6badc1abc",
   "metadata": {},
   "source": [
    "# Evaluate model"
   ]
  },
  {
   "cell_type": "markdown",
   "id": "05a3bf8f-3642-4e41-8890-be3b4d9cb038",
   "metadata": {},
   "source": [
    "## Compute Hardness"
   ]
  },
  {
   "cell_type": "code",
   "execution_count": null,
   "id": "c7c9d281-f33f-42b1-976d-dafccf0fdce7",
   "metadata": {},
   "outputs": [],
   "source": [
    "fob.compute_hardness(dataset, \"predictions\")\n",
    "dataset.save()"
   ]
  },
  {
   "cell_type": "code",
   "execution_count": null,
   "id": "0d19753f-bd26-4288-95a6-852baf67cba4",
   "metadata": {},
   "outputs": [],
   "source": [
    "fob.compute_mistakenness(dataset, \"ground_truth\", label_field=\"ground_truth\")\n",
    "dataset.save()"
   ]
  },
  {
   "cell_type": "markdown",
   "id": "4e111a33-9ba4-49ec-8772-381ebd5e1980",
   "metadata": {},
   "source": [
    "# Export data and labels"
   ]
  },
  {
   "cell_type": "code",
   "execution_count": null,
   "id": "08a8e610-65ff-43f4-934f-b9735fbdaeb0",
   "metadata": {},
   "outputs": [],
   "source": [
    "# dataset_or_view.export(\n",
    "#     export_dir=EXPORT_DIR,\n",
    "#     dataset_type=EXPORT_DATASET_TYPE,\n",
    "#     label_field=LABEL_FIELD,\n",
    "#     classes=CLASSES_OF_INTEREST,\n",
    "# )"
   ]
  },
  {
   "cell_type": "code",
   "execution_count": 8,
   "id": "329a4bb1-ed89-4f4a-aa6b-e71a4b7dd7f5",
   "metadata": {},
   "outputs": [
    {
     "data": {
      "text/plain": [
       "{'train_aug': 28092,\n",
       " 'validation_aug': 9380,\n",
       " 'train': 15882,\n",
       " 'validation': 5299}"
      ]
     },
     "execution_count": 8,
     "metadata": {},
     "output_type": "execute_result"
    }
   ],
   "source": [
    "dataset.count_sample_tags()"
   ]
  },
  {
   "cell_type": "code",
   "execution_count": 21,
   "id": "5a8e8db2-ee72-4552-bdc0-87bd118112bf",
   "metadata": {},
   "outputs": [
    {
     "data": {
      "text/plain": [
       "Name:        coco-2017-all\n",
       "Media type:  image\n",
       "Num samples: 212446\n",
       "Persistent:  True\n",
       "Tags:        ['test', 'train', 'validation']\n",
       "Sample fields:\n",
       "    id:           fiftyone.core.fields.ObjectIdField\n",
       "    filepath:     fiftyone.core.fields.StringField\n",
       "    tags:         fiftyone.core.fields.ListField(fiftyone.core.fields.StringField)\n",
       "    metadata:     fiftyone.core.fields.EmbeddedDocumentField(fiftyone.core.metadata.Metadata)\n",
       "    ground_truth: fiftyone.core.fields.EmbeddedDocumentField(fiftyone.core.labels.Detections)\n",
       "    uniqueness:   fiftyone.core.fields.FloatField"
      ]
     },
     "execution_count": 21,
     "metadata": {},
     "output_type": "execute_result"
    }
   ],
   "source": [
    "dataset"
   ]
  },
  {
   "cell_type": "code",
   "execution_count": 8,
   "id": "41db025f-f903-4658-baef-2401feb02914",
   "metadata": {},
   "outputs": [
    {
     "name": "stdout",
     "output_type": "stream",
     "text": []
    },
    {
     "name": "stdout",
     "output_type": "stream",
     "text": [
      " 100% |█████████████| 15882/15882 [2.0m elapsed, 0s remaining, 249.3 samples/s]      \n",
      "Directory 'test_export2' already exists; export will be merged with existing files\n",
      " 100% |███████████████| 5299/5299 [40.5s elapsed, 0s remaining, 212.2 samples/s]      \n",
      "Directory 'test_export2' already exists; export will be merged with existing files\n",
      " 100% |█████████████| 28092/28092 [3.3m elapsed, 0s remaining, 225.3 samples/s]      \n",
      "Directory 'test_export2' already exists; export will be merged with existing files\n",
      " 100% |███████████████| 9380/9380 [1.3m elapsed, 0s remaining, 223.9 samples/s]       \n"
     ]
    }
   ],
   "source": [
    "dataset_or_view = dataset\n",
    "\n",
    "for split in [\n",
    "        'train', \n",
    "        # 'test',\n",
    "        'validation',\n",
    "        'train_aug',\n",
    "        'validation_aug',\n",
    "        ]:\n",
    "    split_view = dataset_or_view.match_tags(split)\n",
    "\n",
    "    # Export the dataset\n",
    "    split_view.export(\n",
    "        export_dir=EXPORT_DIR,\n",
    "        dataset_type=EXPORT_DATASET_TYPE,\n",
    "        label_field=LABEL_FIELD,\n",
    "        classes=CLASSES_OF_INTEREST,\n",
    "        split=split,\n",
    "    )"
   ]
  },
  {
   "cell_type": "markdown",
   "id": "b1833f87-ab91-4017-9f6b-66f276757c9b",
   "metadata": {},
   "source": [
    "# Visualize data"
   ]
  },
  {
   "cell_type": "code",
   "execution_count": null,
   "id": "e9670f8f-9b47-4dda-9273-95b800f47fda",
   "metadata": {},
   "outputs": [],
   "source": [
    "import numpy as np\n",
    "import cv2\n",
    "\n",
    "# Construct a `num_samples x num_pixels` array of images\n",
    "images = np.array([\n",
    "    cv2.imread(f, cv2.IMREAD_UNCHANGED).ravel()\n",
    "    for f in dataset.values(\"filepath\")\n",
    "])\n",
    "\n",
    "# Compute 2D embeddings\n",
    "results = fob.compute_visualization(dataset, embeddings=images, seed=51)\n",
    "\n",
    "# Visualize embeddings, colored by ground truth label\n",
    "plot = results.visualize(labels=\"ground_truth.label\")\n",
    "plot.show(height=720)\n",
    "\n",
    "session.plots.attach(plot)"
   ]
  },
  {
   "cell_type": "markdown",
   "id": "132adc64-ab40-4c0f-a00e-7ba06835e6de",
   "metadata": {},
   "source": [
    "# Augment data"
   ]
  },
  {
   "cell_type": "code",
   "execution_count": null,
   "id": "7953e334-f7f9-4ee1-b394-ecba4b7896c0",
   "metadata": {},
   "outputs": [],
   "source": [
    "%%bash\n",
    "\n",
    "# ! pip install albumentations tqdm\n",
    "\n",
    "python augment_box.py\\\n",
    "    -si 'test_export/images/train'\\\n",
    "    -sl 'test_export/labels/train'\\\n",
    "    -di 'test_export/images/train_aug'\\\n",
    "    -dl 'test_export/labels/train_aug'\\\n",
    "    -n 2\n",
    "\n",
    "python augment_box.py\\\n",
    "    -si 'test_export/images/validation'\\\n",
    "    -sl 'test_export/labels/validation'\\\n",
    "    -di 'test_export/images/validation_aug'\\\n",
    "    -dl 'test_export/labels/validation_aug'\\\n",
    "    -n 2"
   ]
  },
  {
   "cell_type": "code",
   "execution_count": null,
   "id": "0ef933c0-e6be-4385-a0b8-44a40a120537",
   "metadata": {},
   "outputs": [],
   "source": [
    "fo.delete_dataset(name='open-image-vehicle_aug')"
   ]
  },
  {
   "cell_type": "code",
   "execution_count": null,
   "id": "db239d7f-255c-4ee2-bdfb-ec2fa7245977",
   "metadata": {},
   "outputs": [],
   "source": [
    "name = \"open-image-vehicle_aug\"\n",
    "dataset_dir = \"test_export\"\n",
    "\n",
    "# The splits to load\n",
    "splits = [\"train\", \"train_aug\", \"validation\", \"validation_aug\"]\n",
    "\n",
    "# Load the dataset, using tags to mark the samples in each split\n",
    "dataset = fo.Dataset(name)\n",
    "for split in splits:\n",
    "    dataset.add_dir(\n",
    "        dataset_dir=dataset_dir,\n",
    "        dataset_type=fo.types.YOLOv5Dataset,\n",
    "        split=split,\n",
    "        tags=split,\n",
    ")\n",
    "\n",
    "# View summary info about the dataset\n",
    "dataset_or_view = dataset\n",
    "dataset"
   ]
  },
  {
   "cell_type": "markdown",
   "id": "cf76fa8e-b566-43e3-ba20-33773c190a27",
   "metadata": {
    "tags": []
   },
   "source": [
    "# Add custom tag"
   ]
  },
  {
   "cell_type": "markdown",
   "id": "f2b95cf7-de39-49d9-bb76-2a25c3095ff4",
   "metadata": {},
   "source": [
    "## Lightness"
   ]
  },
  {
   "cell_type": "code",
   "execution_count": null,
   "id": "f242405d-c44e-44d4-be0d-ceb3574f4d28",
   "metadata": {},
   "outputs": [],
   "source": [
    "dataset.add_sample_field(field_name='lightness', ftype=fo.FloatField)\n",
    "dataset"
   ]
  },
  {
   "cell_type": "code",
   "execution_count": null,
   "id": "764f3ca0-90e3-472b-b0b0-bef33ce735e8",
   "metadata": {},
   "outputs": [],
   "source": [
    "import cv2\n",
    "import numpy as np\n",
    "from tqdm import tqdm\n",
    "\n",
    "lightness_values = []\n",
    "\n",
    "for f in tqdm(dataset.values(\"filepath\")):\n",
    "    img = cv2.imread(f)\n",
    "    hsv = cv2.cvtColor(img,cv2.COLOR_BGR2HSV)\n",
    "    v = np.mean(hsv[...,[2]])\n",
    "    lightness_values.append(v)"
   ]
  },
  {
   "cell_type": "code",
   "execution_count": null,
   "id": "046d6c0c-8903-494d-9a87-2726e263b852",
   "metadata": {},
   "outputs": [],
   "source": [
    "dataset.set_values('lightness', lightness_values)"
   ]
  },
  {
   "cell_type": "code",
   "execution_count": null,
   "id": "998f9da5-115e-46ee-a968-44d225204721",
   "metadata": {},
   "outputs": [],
   "source": [
    "light_view = dataset.sort_by(\"lightness\")\n",
    "session.view = light_view\n",
    "clear_output()"
   ]
  },
  {
   "cell_type": "markdown",
   "id": "f71edd13-be73-4dc6-ab47-7148508bb7a1",
   "metadata": {},
   "source": [
    "## Aggregate statistics (box area)"
   ]
  },
  {
   "cell_type": "code",
   "execution_count": null,
   "id": "d7a76c9a-f0bf-4f2e-8db3-c9a3c47b8cb3",
   "metadata": {},
   "outputs": [],
   "source": [
    "dataset.compute_metadata()\n",
    "\n",
    "# Expression that computes the area of a bounding box, in pixels\n",
    "# Bboxes are in [top-left-x, top-left-y, width, height] format\n",
    "bbox_width = F(\"bounding_box\")[2] * F(\"$metadata.width\")\n",
    "bbox_height = F(\"bounding_box\")[3] * F(\"$metadata.height\")\n",
    "bbox_area = bbox_width * bbox_height\n",
    "\n",
    "# Expression that computes the area of ground truth bboxes\n",
    "gt_areas = F(\"ground_truth.detections[]\").apply(bbox_area)\n",
    "\n",
    "# Compute (min, max, mean) of ground truth bounding boxes\n",
    "print(dataset.bounds(gt_areas))\n",
    "print(dataset.mean(gt_areas))"
   ]
  },
  {
   "cell_type": "code",
   "execution_count": null,
   "id": "08ad12aa-0db7-4e45-8892-868c90f16a60",
   "metadata": {
    "tags": []
   },
   "outputs": [],
   "source": [
    "dataset.default_classes"
   ]
  },
  {
   "cell_type": "markdown",
   "id": "d3517a82-c5e0-481d-a723-aa6b86c7920f",
   "metadata": {},
   "source": [
    "# Modify dataset and save to database"
   ]
  },
  {
   "cell_type": "markdown",
   "id": "6df46f26-3fa9-4795-8882-89a51490d781",
   "metadata": {
    "tags": []
   },
   "source": [
    "## Modify sample tags\n",
    "See more: https://voxel51.com/docs/fiftyone/user_guide/using_views.html#tagging-contents"
   ]
  },
  {
   "cell_type": "code",
   "execution_count": null,
   "id": "bc3d67c9-cead-4378-aff6-87b5cb0362f6",
   "metadata": {},
   "outputs": [],
   "source": [
    "# remove pre-existing tags\n",
    "dataset.untag_samples(\"test\") "
   ]
  },
  {
   "cell_type": "code",
   "execution_count": null,
   "id": "62dbcd5b-4e84-4847-8480-621bc5b82e93",
   "metadata": {},
   "outputs": [],
   "source": [
    "# replace tag\n",
    "dataset.match_tags(\"test\").tag_samples(\"train\")\n",
    "dataset.match_tags(\"test\").untag_samples(\"test\")"
   ]
  },
  {
   "cell_type": "code",
   "execution_count": null,
   "id": "9248f32e-8454-448e-b3d2-7186f66b8bd5",
   "metadata": {},
   "outputs": [],
   "source": [
    "dataset"
   ]
  },
  {
   "cell_type": "code",
   "execution_count": null,
   "id": "596c842a-f71d-484b-ba4a-05ce1e0cb90c",
   "metadata": {},
   "outputs": [],
   "source": [
    "# Perform a random 90-10 test-train split\n",
    "dataset.take(0.1 * len(dataset)).tag_samples(\"test\")\n",
    "dataset.match_tags(\"test\", bool=False).tag_samples(\"train\")\n",
    "\n",
    "print(dataset.count_sample_tags())\n",
    "# {'train': 180, 'test': 20}"
   ]
  },
  {
   "cell_type": "markdown",
   "id": "4d2697b3-941e-4bae-8f3a-0935f8caf17b",
   "metadata": {},
   "source": [
    "## Modify classes"
   ]
  },
  {
   "cell_type": "code",
   "execution_count": null,
   "id": "7084ff3c-70c4-4d7e-90ca-baf209c5b92a",
   "metadata": {},
   "outputs": [],
   "source": [
    "# lower all classes\n",
    "# dataset.default_classes = [i.lower() for i in dataset.default_classes]\n",
    "# dataset.default_classes[:3]\n",
    "\n",
    "\n",
    "# TODO: add modify labels in the samples."
   ]
  },
  {
   "cell_type": "code",
   "execution_count": null,
   "id": "1fa175c1-9afa-485e-ba16-cded86ea36e4",
   "metadata": {},
   "outputs": [],
   "source": [
    "dataset"
   ]
  },
  {
   "cell_type": "code",
   "execution_count": null,
   "id": "16e86834-9efb-4235-832a-0dba9eb44b35",
   "metadata": {},
   "outputs": [],
   "source": [
    "# save to database\n",
    "dataset.save()"
   ]
  },
  {
   "cell_type": "code",
   "execution_count": null,
   "id": "b3403369-2af1-49a4-b919-0f9766025633",
   "metadata": {},
   "outputs": [],
   "source": [
    "session = fo.launch_app(dataset)\n",
    "clear_output()"
   ]
  },
  {
   "cell_type": "markdown",
   "id": "c010ca77-8802-4fe3-8847-bb8034335681",
   "metadata": {
    "tags": []
   },
   "source": [
    "# Delete by"
   ]
  },
  {
   "cell_type": "code",
   "execution_count": null,
   "id": "ef8decea-90bd-4a77-8479-da00926dcc2d",
   "metadata": {},
   "outputs": [],
   "source": [
    "! pip install tqdm"
   ]
  },
  {
   "cell_type": "code",
   "execution_count": null,
   "id": "bd640010-a79c-4269-b5fd-44692f770873",
   "metadata": {},
   "outputs": [],
   "source": [
    "from tqdm import tqdm\n",
    "\n",
    "for sample in tqdm(dataset.iter_samples()):\n",
    "    sample.tags==['delete']\n",
    "# print(cnt)"
   ]
  },
  {
   "cell_type": "markdown",
   "id": "0adb7a5e-685f-47bf-a3a7-08fbc8b1be19",
   "metadata": {},
   "source": [
    "## Sample Tag"
   ]
  },
  {
   "cell_type": "code",
   "execution_count": null,
   "id": "b517812e-cf82-48ed-be05-c0323905581d",
   "metadata": {},
   "outputs": [],
   "source": [
    "v1 = dataset.match_tags(\"delete\")"
   ]
  },
  {
   "cell_type": "code",
   "execution_count": null,
   "id": "357013cb-87f9-488f-a531-8205b073e5b3",
   "metadata": {},
   "outputs": [],
   "source": [
    "dataset.delete_samples(v1)"
   ]
  },
  {
   "cell_type": "code",
   "execution_count": null,
   "id": "03d4a97a-b258-426e-a193-9c0787d675db",
   "metadata": {},
   "outputs": [],
   "source": [
    "dataset.save()\n",
    "dataset"
   ]
  },
  {
   "cell_type": "markdown",
   "id": "782a82f3-ffcf-424b-92c4-74a247a07af1",
   "metadata": {},
   "source": [
    "## Label Tag"
   ]
  },
  {
   "cell_type": "code",
   "execution_count": null,
   "id": "6bff3877-360e-4596-8ec6-1291af903374",
   "metadata": {},
   "outputs": [],
   "source": [
    "v1 = dataset.filter_labels('ground_truth',F('tags')==['tag_delete'])"
   ]
  },
  {
   "cell_type": "code",
   "execution_count": null,
   "id": "b6806e12-ef72-433d-8fa4-fdf99320b41a",
   "metadata": {},
   "outputs": [],
   "source": [
    "dataset.delete_samples(v1)"
   ]
  },
  {
   "cell_type": "code",
   "execution_count": null,
   "id": "220bdabc-4a20-40bc-9578-6c101ed4014f",
   "metadata": {},
   "outputs": [],
   "source": [
    "dataset.save()\n",
    "dataset"
   ]
  }
 ],
 "metadata": {
  "kernelspec": {
   "display_name": "Python 3 (ipykernel)",
   "language": "python",
   "name": "python3"
  },
  "language_info": {
   "codemirror_mode": {
    "name": "ipython",
    "version": 3
   },
   "file_extension": ".py",
   "mimetype": "text/x-python",
   "name": "python",
   "nbconvert_exporter": "python",
   "pygments_lexer": "ipython3",
   "version": "3.8.12"
  }
 },
 "nbformat": 4,
 "nbformat_minor": 5
}
