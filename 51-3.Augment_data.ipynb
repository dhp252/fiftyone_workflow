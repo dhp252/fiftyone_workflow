{
 "cells": [
  {
   "cell_type": "markdown",
   "id": "2bc4ef68-f80c-4239-b350-9fe81190eb6d",
   "metadata": {},
   "source": [
    "# Init"
   ]
  },
  {
   "cell_type": "code",
   "execution_count": 1,
   "id": "fc5edaca-42a2-4f2c-9bfb-3522d233ed6b",
   "metadata": {},
   "outputs": [],
   "source": [
    "%load_ext autoreload\n",
    "%autoreload 2\n",
    "\n",
    "import fiftyone as fo\n",
    "import fiftyone.zoo as foz\n",
    "from fiftyone import ViewField as F\n",
    "import fiftyone.brain as fob"
   ]
  },
  {
   "cell_type": "code",
   "execution_count": 4,
   "id": "da8c927d-150a-4ba7-87fa-64e766add51a",
   "metadata": {},
   "outputs": [],
   "source": [
    "from IPython.display import clear_output\n",
    "session = fo.launch_app()\n",
    "# session.open_tab()\n",
    "clear_output()"
   ]
  },
  {
   "cell_type": "markdown",
   "id": "132adc64-ab40-4c0f-a00e-7ba06835e6de",
   "metadata": {},
   "source": [
    "# Augment data"
   ]
  },
  {
   "cell_type": "code",
   "execution_count": null,
   "id": "7953e334-f7f9-4ee1-b394-ecba4b7896c0",
   "metadata": {},
   "outputs": [],
   "source": [
    "%%bash\n",
    "\n",
    "# ! pip install albumentations tqdm\n",
    "\n",
    "python augment_box.py\\\n",
    "    -si 'test_export/images/train'\\\n",
    "    -sl 'test_export/labels/train'\\\n",
    "    -di 'test_export/images/train_aug'\\\n",
    "    -dl 'test_export/labels/train_aug'\\\n",
    "    -n 2\n",
    "\n",
    "# python augment_box.py\\\n",
    "#     -si 'test_export/images/validation'\\\n",
    "#     -sl 'test_export/labels/validation'\\\n",
    "#     -di 'test_export/images/validation_aug'\\\n",
    "#     -dl 'test_export/labels/validation_aug'\\\n",
    "#     -n 2"
   ]
  },
  {
   "cell_type": "markdown",
   "id": "93eb4cba-42fd-4e09-b1f3-4c9e1f06cc1f",
   "metadata": {},
   "source": [
    "# Import augmented data to dataset"
   ]
  },
  {
   "cell_type": "code",
   "execution_count": null,
   "id": "db239d7f-255c-4ee2-bdfb-ec2fa7245977",
   "metadata": {},
   "outputs": [],
   "source": [
    "# # Load dataset from the directories\n",
    "\n",
    "# Load the dataset, using tags to mark the samples in each split\n",
    "dataset = fo.Dataset(config.DATASET_AUG_NAME)\n",
    "for split in config.DATASET_AUG_SPLITS:\n",
    "    dataset.add_dir(\n",
    "        dataset_dir=config.EXPORT_DIR,\n",
    "        dataset_type=config.EXPORT_DATASET_TYPE,\n",
    "        split=split,\n",
    "        tags=split,\n",
    ")\n",
    "\n",
    "# View summary info about the dataset\n",
    "dataset"
   ]
  },
  {
   "cell_type": "code",
   "execution_count": null,
   "id": "7cc4b4ec-2ed8-4d67-8061-7ebd55146764",
   "metadata": {},
   "outputs": [],
   "source": [
    "dataset.persistent = True"
   ]
  },
  {
   "cell_type": "code",
   "execution_count": 8,
   "id": "1b4293da-9e39-44d1-a3be-04df31873ff1",
   "metadata": {},
   "outputs": [
    {
     "data": {
      "text/plain": [
       "{'train_aug': 28092,\n",
       " 'validation_aug': 9380,\n",
       " 'train': 15882,\n",
       " 'validation': 5299}"
      ]
     },
     "execution_count": 8,
     "metadata": {},
     "output_type": "execute_result"
    }
   ],
   "source": [
    "dataset.count_sample_tags()"
   ]
  },
  {
   "cell_type": "markdown",
   "id": "f23ecf2d-fd9f-40da-a9bc-c1f43ffd2da7",
   "metadata": {
    "tags": []
   },
   "source": [
    "# Export data and labels"
   ]
  },
  {
   "cell_type": "code",
   "execution_count": null,
   "id": "826ad054-e331-4d45-baee-dd3e8f6de830",
   "metadata": {},
   "outputs": [],
   "source": [
    "dataset_or_view = dataset\n",
    "\n",
    "for split in config.DATASET_AUG_SPLITS:\n",
    "    split_view = dataset_or_view.match_tags(split)\n",
    "\n",
    "    # Export the dataset\n",
    "    split_view.export(\n",
    "        export_dir=config.EXPORT_DIR,\n",
    "        dataset_type=config.EXPORT_DATASET_TYPE,\n",
    "        label_field=config.LABEL_FIELD,\n",
    "        classes=config.CLASSES_OF_INTEREST,\n",
    "        split=split,\n",
    "    )"
   ]
  }
 ],
 "metadata": {
  "kernelspec": {
   "display_name": "Python 3 (ipykernel)",
   "language": "python",
   "name": "python3"
  },
  "language_info": {
   "codemirror_mode": {
    "name": "ipython",
    "version": 3
   },
   "file_extension": ".py",
   "mimetype": "text/x-python",
   "name": "python",
   "nbconvert_exporter": "python",
   "pygments_lexer": "ipython3",
   "version": "3.7.11"
  }
 },
 "nbformat": 4,
 "nbformat_minor": 5
}
