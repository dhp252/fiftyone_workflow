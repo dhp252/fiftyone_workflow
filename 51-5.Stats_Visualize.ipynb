{
 "cells": [
  {
   "cell_type": "markdown",
   "id": "2bc4ef68-f80c-4239-b350-9fe81190eb6d",
   "metadata": {},
   "source": [
    "# Init"
   ]
  },
  {
   "cell_type": "code",
   "execution_count": 1,
   "id": "fc5edaca-42a2-4f2c-9bfb-3522d233ed6b",
   "metadata": {},
   "outputs": [],
   "source": [
    "import fiftyone as fo\n",
    "import fiftyone.zoo as foz\n",
    "from fiftyone import ViewField as F\n",
    "import fiftyone.brain as fob"
   ]
  },
  {
   "cell_type": "code",
   "execution_count": 7,
   "id": "ecc40ada-0de6-479b-9634-0665f2d318f1",
   "metadata": {},
   "outputs": [],
   "source": [
    "# The directory to which to write the exported dataset\n",
    "EXPORT_DIR = \"test_export2\"\n",
    "\n",
    "# dataset_type = fo.types.COCODetectionDataset  # COCO\n",
    "EXPORT_DATASET_TYPE = fo.types.dataset_types.YOLOv5Dataset # YOLOv5\n",
    "\n",
    "# The name of the sample field containing the label that you wish to export\n",
    "# Used when exporting labeled datasets (e.g., classification or detection)\n",
    "LABEL_FIELD = \"ground_truth\"  # for example\n",
    "\n",
    "CLASSES_OF_INTEREST = [\"Motorcycle\", \"Car\", \"Truck\"]"
   ]
  },
  {
   "cell_type": "code",
   "execution_count": 3,
   "id": "3bcd731c-3a76-460c-abde-71c23c990c72",
   "metadata": {},
   "outputs": [
    {
     "name": "stdout",
     "output_type": "stream",
     "text": [
      "######### Available zoo dataset #########\n",
      "['bdd100k', 'caltech101', 'caltech256', 'cifar10', 'cifar100', 'cityscapes', 'coco-2014', 'coco-2017', 'fashion-mnist', 'hmdb51', 'imagenet-2012', 'imagenet-sample', 'kitti', 'lfw', 'mnist', 'open-images-v6', 'quickstart', 'quickstart-geo', 'quickstart-video', 'ucf101', 'voc-2007', 'voc-2012']\n",
      "\n",
      "######### Donwloaded zoo dataset #########\n",
      "{\n",
      "    'coco-2017': (\n",
      "        '/home/dhp/fiftyone/coco-2017',\n",
      "        <fiftyone.zoo.datasets.ZooDatasetInfo object at 0x7f5fe45578d0>,\n",
      "    ),\n",
      "    'open-images-v6': (\n",
      "        '/home/dhp/fiftyone/open-images-v6',\n",
      "        <fiftyone.zoo.datasets.ZooDatasetInfo object at 0x7f5fe4562a10>,\n",
      "    ),\n",
      "}\n",
      "\n",
      "######### Dataset list #########\n",
      "['coco-2017-all', 'open-image-vehicle_aug']\n"
     ]
    }
   ],
   "source": [
    "# List available zoo datasets\n",
    "print('######### Available zoo dataset #########')\n",
    "print(foz.list_zoo_datasets())\n",
    "print()\n",
    "\n",
    "print('######### Donwloaded zoo dataset #########')\n",
    "fo.pprint(foz.list_downloaded_zoo_datasets())\n",
    "print()\n",
    "\n",
    "print('######### Dataset list #########')\n",
    "print(fo.list_datasets())\n"
   ]
  },
  {
   "cell_type": "markdown",
   "id": "8c5c77fa-8197-43fc-96fe-281408945280",
   "metadata": {},
   "source": [
    "# Load dataset"
   ]
  },
  {
   "cell_type": "code",
   "execution_count": null,
   "id": "9611b58d-c4f4-4855-8101-9263dd696f99",
   "metadata": {},
   "outputs": [],
   "source": [
    "# # # load a dataset from the zoo and save to database\n",
    "\n",
    "# dataset = foz.load_zoo_dataset(\n",
    "#     \"open-images-v6\",\n",
    "#     splits=[\"test\", 'validation'],\n",
    "#     dataset_name=\"open-images-v6\",\n",
    "#     download_if_necessary=False,   \n",
    "# )\n",
    "# dataset_or_view = dataset\n",
    "# dataset_or_view"
   ]
  },
  {
   "cell_type": "code",
   "execution_count": 5,
   "id": "a5c4915e-c0d5-4236-b3e0-ba4d52d77bde",
   "metadata": {},
   "outputs": [
    {
     "data": {
      "text/plain": [
       "Name:        open-image-vehicle_aug\n",
       "Media type:  image\n",
       "Num samples: 58653\n",
       "Persistent:  True\n",
       "Tags:        ['train', 'train_aug', 'validation', 'validation_aug']\n",
       "Sample fields:\n",
       "    id:                   fiftyone.core.fields.ObjectIdField\n",
       "    filepath:             fiftyone.core.fields.StringField\n",
       "    tags:                 fiftyone.core.fields.ListField(fiftyone.core.fields.StringField)\n",
       "    metadata:             fiftyone.core.fields.EmbeddedDocumentField(fiftyone.core.metadata.Metadata)\n",
       "    ground_truth:         fiftyone.core.fields.EmbeddedDocumentField(fiftyone.core.labels.Detections)\n",
       "    uniqueness:           fiftyone.core.fields.FloatField\n",
       "    lightness:            fiftyone.core.fields.FloatField\n",
       "    mistakenness_eval_tp: fiftyone.core.fields.IntField\n",
       "    mistakenness_eval_fp: fiftyone.core.fields.IntField\n",
       "    mistakenness_eval_fn: fiftyone.core.fields.IntField"
      ]
     },
     "execution_count": 5,
     "metadata": {},
     "output_type": "execute_result"
    }
   ],
   "source": [
    "# # Load existing dataset from the database\n",
    "\n",
    "dataset = fo.load_dataset(name=\"open-image-vehicle_aug\")\n",
    "dataset_or_view = dataset\n",
    "dataset_or_view"
   ]
  },
  {
   "cell_type": "code",
   "execution_count": null,
   "id": "86f6b916-af7b-418f-8cbb-ded10aab0f72",
   "metadata": {},
   "outputs": [],
   "source": [
    "# # # Load dataset from the directories\n",
    "\n",
    "# name = \"open-image-vehicle_aug\"\n",
    "# dataset_dir = \"test_export\"\n",
    "\n",
    "# # The splits to load\n",
    "# splits = [\"train\", \"validation\",\"train_aug\", \"validation_aug\"]\n",
    "\n",
    "# # Load the dataset, using tags to mark the samples in each split\n",
    "# dataset = fo.Dataset(name)\n",
    "# for split in splits:\n",
    "#     dataset.add_dir(\n",
    "#         dataset_dir=dataset_dir,\n",
    "#         dataset_type=fo.types.YOLOv5Dataset,\n",
    "#         split=split,\n",
    "#         tags=split,\n",
    "# )\n",
    "\n",
    "# # View summary info about the dataset\n",
    "# dataset_or_view = dataset\n",
    "# dataset"
   ]
  },
  {
   "cell_type": "code",
   "execution_count": null,
   "id": "ec95f86a-5032-45cf-8aac-def321a4693e",
   "metadata": {},
   "outputs": [],
   "source": [
    "dataset.default_classes"
   ]
  },
  {
   "cell_type": "code",
   "execution_count": null,
   "id": "56fcab17-5f34-44fb-a664-920669771b5c",
   "metadata": {},
   "outputs": [],
   "source": [
    "# After tagging in FiftyOne UI\n",
    "print(dataset.count_label_tags())"
   ]
  },
  {
   "cell_type": "code",
   "execution_count": 8,
   "id": "329a4bb1-ed89-4f4a-aa6b-e71a4b7dd7f5",
   "metadata": {},
   "outputs": [
    {
     "data": {
      "text/plain": [
       "{'train_aug': 28092,\n",
       " 'validation_aug': 9380,\n",
       " 'train': 15882,\n",
       " 'validation': 5299}"
      ]
     },
     "execution_count": 8,
     "metadata": {},
     "output_type": "execute_result"
    }
   ],
   "source": [
    "dataset.count_sample_tags()"
   ]
  },
  {
   "cell_type": "markdown",
   "id": "b1833f87-ab91-4017-9f6b-66f276757c9b",
   "metadata": {},
   "source": [
    "# Visualize data"
   ]
  },
  {
   "cell_type": "code",
   "execution_count": null,
   "id": "e9670f8f-9b47-4dda-9273-95b800f47fda",
   "metadata": {},
   "outputs": [],
   "source": [
    "import numpy as np\n",
    "import cv2\n",
    "\n",
    "# Compute 2D embeddings\n",
    "results = fob.compute_visualization(dataset, seed=51)\n",
    "\n",
    "# Visualize embeddings, colored by ground truth label\n",
    "plot = results.visualize(labels=\"ground_truth.label\")\n",
    "plot.show(height=720)\n",
    "\n",
    "session.plots.attach(plot)"
   ]
  }
 ],
 "metadata": {
  "kernelspec": {
   "display_name": "Python 3 (ipykernel)",
   "language": "python",
   "name": "python3"
  },
  "language_info": {
   "codemirror_mode": {
    "name": "ipython",
    "version": 3
   },
   "file_extension": ".py",
   "mimetype": "text/x-python",
   "name": "python",
   "nbconvert_exporter": "python",
   "pygments_lexer": "ipython3",
   "version": "3.7.11"
  }
 },
 "nbformat": 4,
 "nbformat_minor": 5
}
