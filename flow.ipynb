{
 "cells": [
  {
   "cell_type": "markdown",
   "id": "81fbc422-0c3a-4ede-b9dd-593faf087974",
   "metadata": {
    "jupyter": {
     "source_hidden": true
    },
    "tags": []
   },
   "source": [
    "0. Config.py snapshot\n",
    "\n",
    "```python\n",
    "import os\n",
    "\n",
    "import fiftyone as fo\n",
    "import fiftyone.zoo as foz\n",
    "from fiftyone import ViewField as F\n",
    "import fiftyone.brain as fob \n",
    "\n",
    "\n",
    "# Dataset Zoo\n",
    "## list of str / None for download all\n",
    "DATASET_ZOO_NAME   = 'open-images-v6'\n",
    "DATASET_MOD_NAME   = DATASET_ZOO_NAME + '_mod'\n",
    "## list of str / None for download all\n",
    "DATASET_ZOO_SPLITS = [\"train\", 'test', 'validation']\n",
    "## list of str / None for default dir\n",
    "DATASET_ZOO_DIR    = os.path.expanduser('~/fiftyone')\n",
    "# Filter configs\n",
    "CLASSES_OF_INTEREST = [\n",
    "    \"Motorcycle\", \"Car\", \"Truck\",\n",
    "    \"Bus\", \"Taxi\", \"Van\", \"Land vehicle\",\n",
    "    # \"Tank\", \"Train\", \"Vehicle\", \n",
    "]\n",
    "\n",
    "LABEL_TYPES = [\n",
    "    \"detections\", \n",
    "    # \"classifications\", \n",
    "    # \"segmentations\", \n",
    "    # \"relationships\",\n",
    "]\n",
    "\n",
    "# The name of the sample field containing the label that you wish to export\n",
    "# Used when exporting labeled datasets (e.g., classification or detection)\n",
    "# LABEL_FIELD = \"ground_truth\"\n",
    "LABEL_FIELD = \"detections\"\n",
    "\n",
    "## Aug\n",
    "DATASET_AUG_NAME   = DATASET_ZOO_NAME + \"_aug\"\n",
    "DATASET_AUG_SPLITS = DATASET_ZOO_SPLITS + [i+\"_aug\" for i in DATASET_ZOO_SPLITS]\n",
    "\n",
    "\n",
    "# Filter+_data.ipynb\n",
    "DATASET_TO_FILTER  = DATASET_ZOO_NAME\n",
    "\n",
    "\n",
    "EXPORT_DIR = \"export\"\n",
    "\n",
    "################################################################################\n",
    "################################################################################\n",
    "\n",
    "\n",
    "# Model Zoo\n",
    "ZOO_MODEL_NAME     = \"\"\n",
    "DETECTION_FIELD    = \"\"\n",
    "\n",
    "\n",
    "################################################################################\n",
    "################################################################################\n",
    "\n",
    "\n",
    "\n",
    "################################################################################\n",
    "################################################################################\n",
    "\n",
    "\n",
    "# The directory to which to write the exported dataset\n",
    "## Filter_data.ipynb\n",
    "\n",
    "\n",
    "# dataset_type = fo.types.COCODetectionDataset  # COCO\n",
    "EXPORT_DATASET_TYPE = fo.types.dataset_types.YOLOv5Dataset # YOLOv5\n",
    "\n",
    "\n",
    "\n",
    "```"
   ]
  },
  {
   "cell_type": "markdown",
   "id": "1cb8ea68-1eea-4c2f-bade-23823a05699a",
   "metadata": {},
   "source": [
    "# 1 Download"
   ]
  },
  {
   "cell_type": "code",
   "execution_count": 1,
   "id": "b27f5b7f-fe50-4cc8-b58c-171481ef1925",
   "metadata": {},
   "outputs": [
    {
     "name": "stdout",
     "output_type": "stream",
     "text": [
      "Change dataset_zoo_dir to /home/dhp/fiftyone\n",
      "['bdd100k', 'caltech101', 'caltech256', 'cifar10', 'cifar100', 'cityscapes', 'coco-2014', 'coco-2017', 'fashion-mnist', 'hmdb51', 'imagenet-2012', 'imagenet-sample', 'kitti', 'lfw', 'mnist', 'open-images-v6', 'quickstart', 'quickstart-geo', 'quickstart-video', 'ucf101', 'voc-2007', 'voc-2012']\n"
     ]
    }
   ],
   "source": [
    "%load_ext autoreload\n",
    "%autoreload 2\n",
    "\n",
    "try:\n",
    "    import umap # for visualization\n",
    "except ImportError:\n",
    "    !pip install numpy==1.20 scipy scikit-learn numba umap-learn\n",
    "\n",
    "import fiftyone as fo\n",
    "import fiftyone.zoo as foz\n",
    "from fiftyone import ViewField as F\n",
    "import fiftyone.brain as fob\n",
    "import fiftyone.utils.eval as foue\n",
    "import config\n",
    "\n",
    "import cv2\n",
    "\n",
    "if config.DATASET_ZOO_DIR is not None:\n",
    "    fo.config.dataset_zoo_dir = config.DATASET_ZOO_DIR\n",
    "    print(f\"Change dataset_zoo_dir to {fo.config.dataset_zoo_dir}\")\n",
    "ds = foz.list_zoo_datasets()\n",
    "print(ds)"
   ]
  },
  {
   "cell_type": "code",
   "execution_count": 3,
   "id": "1cb5f791-8465-4313-89e7-3a23cd158827",
   "metadata": {
    "tags": []
   },
   "outputs": [],
   "source": [
    "from IPython.display import clear_output\n",
    "session = fo.launch_app() \n",
    "# session.open_tab()\n",
    "clear_output()"
   ]
  },
  {
   "cell_type": "code",
   "execution_count": null,
   "id": "43b7a1a9-fc61-479f-9269-f2681c2a2f4c",
   "metadata": {},
   "outputs": [],
   "source": [
    "if config.DATASET_ZOO_NAME is None:\n",
    "    # Download all\n",
    "    ds = foz.list_zoo_datasets()\n",
    "    ds.remove('bdd100k')\n",
    "\n",
    "    for ds_name in ds:\n",
    "        try:\n",
    "            print(foz.download_zoo_dataset(ds_name))\n",
    "        except:\n",
    "            print('skip')\n",
    "else:\n",
    "    # Download specific dataset\n",
    "    if config.DATASET_ZOO_NAME in foz.list_downloaded_zoo_datasets():\n",
    "        dsname = config.DATASET_MOD_NAME\n",
    "    else:\n",
    "        dsname = config.DATASET_ZOO_NAME\n",
    "    \n",
    "    dataset = foz.load_zoo_dataset(\n",
    "        name         = config.DATASET_ZOO_NAME,\n",
    "        splits       = config.DATASET_ZOO_SPLITS,\n",
    "        classes      = config.CLASSES_OF_INTEREST,\n",
    "        dataset_name = dsname,\n",
    "        label_types  = config.LABEL_TYPES,\n",
    "        cleanup      = True,\n",
    "        download_if_neccessary = True,\n",
    "        # overwrite    = True,\n",
    "        # max_samples=100,\n",
    "        # seed=51,\n",
    "        # shuffle=True,        \n",
    "    )\n",
    "\n",
    "dataset.persistent = True\n",
    "dataset"
   ]
  },
  {
   "cell_type": "markdown",
   "id": "ac7bff6d-494c-4600-83ec-fc0504215112",
   "metadata": {},
   "source": [
    "# 2. Filter data"
   ]
  },
  {
   "cell_type": "markdown",
   "id": "95aed73c-b02a-486c-ad42-dd3d59868df5",
   "metadata": {},
   "source": [
    "# Filter label by class"
   ]
  },
  {
   "cell_type": "code",
   "execution_count": 9,
   "id": "62407026-8a30-4c30-a72d-7a0f38b6a184",
   "metadata": {},
   "outputs": [],
   "source": [
    "#####\n",
    "view = dataset.filter_labels(config.LABEL_FIELD, F(\"label\").is_in(config.CLASSES_OF_INTEREST))\n",
    "# dataset = dataset.match_tags('validation')"
   ]
  },
  {
   "cell_type": "code",
   "execution_count": 7,
   "id": "2ea305d5-c96e-42e1-8662-d7b673ba6355",
   "metadata": {},
   "outputs": [],
   "source": [
    "session.view = view\n",
    "clear_output()"
   ]
  },
  {
   "cell_type": "markdown",
   "id": "19707ee3-1a73-46ad-a866-a44e9113b19e",
   "metadata": {
    "tags": []
   },
   "source": [
    "# Remove duplicates"
   ]
  },
  {
   "cell_type": "code",
   "execution_count": 44,
   "id": "33c2366a-af9f-4a72-a968-89da99bde1ad",
   "metadata": {},
   "outputs": [],
   "source": [
    "IOU_THRES = 0.75\n",
    "\n",
    "foue.compute_max_ious(view, config.LABEL_FIELD, attr_name=\"max_iou\", classwise=True)\n",
    "\n",
    "# Retrieve detections that overlap above a chosen threshold\n",
    "dups_view = dataset.filter_labels(config.LABEL_FIELD, F(\"max_iou\") >= IOU_THRES)\n",
    "session.view = dups_view\n",
    "clear_output()"
   ]
  },
  {
   "cell_type": "code",
   "execution_count": 46,
   "id": "7d9ad909-f763-4a0c-b3fc-ee6b531f4b98",
   "metadata": {},
   "outputs": [],
   "source": [
    "# # Method 2: Delete all images filtered by the expression\n",
    "dataset.delete_samples(dups_view)"
   ]
  },
  {
   "cell_type": "markdown",
   "id": "c4fd876a-503b-4f36-b653-12c8d75d68c0",
   "metadata": {},
   "source": [
    "# Calculate uniqueness\n"
   ]
  },
  {
   "cell_type": "code",
   "execution_count": null,
   "id": "ff3fa36a-301b-46a7-825a-a0e9345f02a2",
   "metadata": {},
   "outputs": [],
   "source": [
    "fob.compute_uniqueness(view)\n",
    "dataset.save()"
   ]
  },
  {
   "cell_type": "markdown",
   "id": "99056e54-5c05-4751-822e-53bfa60016fd",
   "metadata": {},
   "source": [
    "# Calculate similarity\n"
   ]
  },
  {
   "cell_type": "code",
   "execution_count": null,
   "id": "17676730-c0a9-43fe-968e-8c6591ffaaee",
   "metadata": {},
   "outputs": [],
   "source": [
    "fob.compute_similarity(view, brain_key=\"image_sim\")\n",
    "dataset.save()"
   ]
  },
  {
   "cell_type": "code",
   "execution_count": 14,
   "id": "a4b46917-00ec-4bf8-aa79-5b38ea1d1d0c",
   "metadata": {},
   "outputs": [],
   "source": [
    "## Go to fiftyone-app, manually check for irrelevant images and mark sample tag = 'del' then run this cell\n",
    "## ONLY RUN THIS RIGHT AFTER EXPORT\n",
    "dataset.delete_samples(dataset.match_tags(\"del\"))"
   ]
  },
  {
   "cell_type": "markdown",
   "id": "2671351a-69d2-409d-a805-4eea3bdef564",
   "metadata": {},
   "source": [
    "# Export - Augment - Reload"
   ]
  },
  {
   "cell_type": "code",
   "execution_count": 14,
   "id": "2c0fc783-0eec-406e-81ce-3170b34e97e8",
   "metadata": {},
   "outputs": [
    {
     "data": {
      "text/plain": [
       "{'test': 15031, 'train': 7708, 'validation': 5007}"
      ]
     },
     "execution_count": 14,
     "metadata": {},
     "output_type": "execute_result"
    }
   ],
   "source": [
    "view = dataset.view()\n",
    "view.count_sample_tags()"
   ]
  },
  {
   "cell_type": "code",
   "execution_count": 17,
   "id": "a2bbf4ef-c400-48d3-9bea-9bf0dbb1a596",
   "metadata": {},
   "outputs": [
    {
     "name": "stdout",
     "output_type": "stream",
     "text": [
      " 100% |███████████████| 7708/7708 [1.5m elapsed, 0s remaining, 84.6 samples/s]        \n",
      "Directory 'export' already exists; export will be merged with existing files\n",
      " 100% |█████████████| 15031/15031 [2.7m elapsed, 0s remaining, 108.2 samples/s]      \n",
      "Directory 'export' already exists; export will be merged with existing files\n",
      " 100% |███████████████| 5007/5007 [48.5s elapsed, 0s remaining, 113.8 samples/s]      \n",
      "Directory 'export' already exists; export will be merged with existing files\n",
      " 100% |█████████████████████| 0/0 [16.3ms elapsed, ? remaining, ? samples/s] \n",
      "Directory 'export' already exists; export will be merged with existing files\n",
      " 100% |█████████████████████| 0/0 [17.9ms elapsed, ? remaining, ? samples/s] \n",
      "Directory 'export' already exists; export will be merged with existing files\n",
      " 100% |█████████████████████| 0/0 [17.0ms elapsed, ? remaining, ? samples/s] \n"
     ]
    },
    {
     "data": {
      "text/plain": [
       "{'test': 15031, 'validation': 5007, 'train': 7708}"
      ]
     },
     "execution_count": 17,
     "metadata": {},
     "output_type": "execute_result"
    }
   ],
   "source": [
    "# Use when any change applied to dataset\n",
    "for split in config.DATASET_ZOO_SPLITS:\n",
    "    print(f'Exporting {split}')\n",
    "    split_view = view.match_tags(split)\n",
    "\n",
    "    # Export the dataset\n",
    "    split_view.export(\n",
    "        export_dir=config.EXPORT_DIR,\n",
    "        dataset_type=config.EXPORT_DATASET_TYPE,\n",
    "        label_field=config.LABEL_FIELD,\n",
    "        classes=config.CLASSES_OF_INTEREST,\n",
    "        split=split,\n",
    "    )\n",
    "dataset.count_sample_tags()"
   ]
  },
  {
   "cell_type": "code",
   "execution_count": null,
   "id": "c1461726-ed7d-4010-ad7c-41c7e19c0d2e",
   "metadata": {},
   "outputs": [],
   "source": [
    "# Move all samples and labels in \"validattion\" to \"train\""
   ]
  },
  {
   "cell_type": "code",
   "execution_count": 18,
   "id": "8dbde37a-b1c4-4843-a653-843c3ad53151",
   "metadata": {},
   "outputs": [
    {
     "name": "stdout",
     "output_type": "stream",
     "text": [
      "Start Augment export/images/train export/labels/train export/images/train_aug export/labels/train_aug 2\n"
     ]
    },
    {
     "name": "stderr",
     "output_type": "stream",
     "text": [
      "100%|██████████| 12715/12715 [34:44<00:00,  6.10it/s] \n"
     ]
    }
   ],
   "source": [
    "%%bash\n",
    "\n",
    "# ! pip install albumentations tqdm\n",
    "\n",
    "# change \"export\" to relevant folder\n",
    "python augment_box.py\\\n",
    "    -si 'export/images/train'\\\n",
    "    -sl 'export/labels/train'\\\n",
    "    -di 'export/images/train_aug'\\\n",
    "    -dl 'export/labels/train_aug'\\\n",
    "    -n 2"
   ]
  },
  {
   "cell_type": "code",
   "execution_count": 19,
   "id": "d3c1b328-4352-408a-9063-f25850bbd1fe",
   "metadata": {},
   "outputs": [
    {
     "data": {
      "text/plain": [
       "Name:        open-images-v6_mod\n",
       "Media type:  image\n",
       "Num samples: 27746\n",
       "Persistent:  True\n",
       "Tags:        ['test', 'train', 'validation']\n",
       "Sample fields:\n",
       "    id:             fiftyone.core.fields.ObjectIdField\n",
       "    filepath:       fiftyone.core.fields.StringField\n",
       "    tags:           fiftyone.core.fields.ListField(fiftyone.core.fields.StringField)\n",
       "    metadata:       fiftyone.core.fields.EmbeddedDocumentField(fiftyone.core.metadata.Metadata)\n",
       "    detections:     fiftyone.core.fields.EmbeddedDocumentField(fiftyone.core.labels.Detections)\n",
       "    open_images_id: fiftyone.core.fields.StringField\n",
       "    lightness:      fiftyone.core.fields.FloatField\n",
       "    contrast:       fiftyone.core.fields.FloatField\n",
       "    uniqueness:     fiftyone.core.fields.FloatField"
      ]
     },
     "execution_count": 19,
     "metadata": {},
     "output_type": "execute_result"
    }
   ],
   "source": [
    "dataset"
   ]
  },
  {
   "cell_type": "code",
   "execution_count": 20,
   "id": "20061fb3-e13d-4818-adb5-29f839000d4a",
   "metadata": {},
   "outputs": [
    {
     "name": "stdout",
     "output_type": "stream",
     "text": [
      " 100% |█████████████| 12715/12715 [44.6s elapsed, 0s remaining, 781.2 samples/s]      \n",
      " 100% |█████████████| 15031/15031 [1.2m elapsed, 0s remaining, 166.1 samples/s]      \n",
      " 100% |█████████████████████| 0/0 [650.9us elapsed, ? remaining, ? samples/s] \n",
      " 100% |█████████████| 22970/22970 [1.1m elapsed, 0s remaining, 759.9 samples/s]      \n",
      " 100% |█████████████████████| 0/0 [394.8us elapsed, ? remaining, ? samples/s] \n",
      " 100% |█████████████████████| 0/0 [366.3us elapsed, ? remaining, ? samples/s] \n"
     ]
    }
   ],
   "source": [
    "# # Load dataset from the directories\n",
    "\n",
    "# Load the dataset, using tags to mark the samples in each split\n",
    "dataset = fo.Dataset(config.DATASET_AUG_NAME)\n",
    "for split in config.DATASET_AUG_SPLITS:\n",
    "    dataset.add_dir(\n",
    "        dataset_dir=config.EXPORT_DIR,\n",
    "        dataset_type=config.EXPORT_DATASET_TYPE,\n",
    "        split=split,\n",
    "        tags=split,\n",
    ")\n",
    "dataset.persistent = True"
   ]
  },
  {
   "cell_type": "code",
   "execution_count": 16,
   "id": "cfce0a43-8a2a-4dcd-b4fb-6f5657119800",
   "metadata": {},
   "outputs": [
    {
     "name": "stdout",
     "output_type": "stream",
     "text": [
      "{'test': 15026, 'train_aug': 22375, 'train': 12710}\n"
     ]
    },
    {
     "data": {
      "text/plain": [
       "Name:        open-images-v6_aug\n",
       "Media type:  image\n",
       "Num samples: 50111\n",
       "Persistent:  True\n",
       "Tags:        ['test', 'train', 'train_aug']\n",
       "Sample fields:\n",
       "    id:           fiftyone.core.fields.ObjectIdField\n",
       "    filepath:     fiftyone.core.fields.StringField\n",
       "    tags:         fiftyone.core.fields.ListField(fiftyone.core.fields.StringField)\n",
       "    metadata:     fiftyone.core.fields.EmbeddedDocumentField(fiftyone.core.metadata.Metadata)\n",
       "    ground_truth: fiftyone.core.fields.EmbeddedDocumentField(fiftyone.core.labels.Detections)\n",
       "    lightness:    fiftyone.core.fields.FloatField\n",
       "    contrast:     fiftyone.core.fields.FloatField"
      ]
     },
     "execution_count": 16,
     "metadata": {},
     "output_type": "execute_result"
    }
   ],
   "source": [
    "print(dataset.count_sample_tags())\n",
    "dataset"
   ]
  },
  {
   "cell_type": "code",
   "execution_count": 17,
   "id": "54497a69-88eb-403f-b6f4-fde68018575a",
   "metadata": {},
   "outputs": [],
   "source": [
    "view = dataset.view()\n",
    "session.view = view\n",
    "clear_output()"
   ]
  },
  {
   "cell_type": "markdown",
   "id": "5efa6ac2-6e4f-426f-817f-83cb24a6c5f5",
   "metadata": {},
   "source": [
    "# Lowest lightness from boxes in img"
   ]
  },
  {
   "cell_type": "code",
   "execution_count": 28,
   "id": "a8e283dd-b3b9-4f99-ac0f-bf23d3e7cd41",
   "metadata": {},
   "outputs": [
    {
     "name": "stdout",
     "output_type": "stream",
     "text": [
      "Computing image metadata...\n",
      "  44% |█████/-------| 22507/50716 [4.3m elapsed, 5.3m remaining, 92.5 samples/s]     "
     ]
    },
    {
     "name": "stderr",
     "output_type": "stream",
     "text": [
      "Corrupt JPEG data: bad Huffman code\n"
     ]
    },
    {
     "name": "stdout",
     "output_type": "stream",
     "text": [
      " 100% |█████████████| 50716/50716 [9.4m elapsed, 0s remaining, 122.3 samples/s]      \n"
     ]
    }
   ],
   "source": [
    "view.compute_metadata()"
   ]
  },
  {
   "cell_type": "code",
   "execution_count": 36,
   "id": "7c93345e-11da-4ca5-aea7-675c09053504",
   "metadata": {},
   "outputs": [
    {
     "data": {
      "text/plain": [
       "'/home/dhp/DATA/0.Project/personal/get_data/export/images/train_aug/0952869ab4eb4107_aug_1.jpg'"
      ]
     },
     "execution_count": 36,
     "metadata": {},
     "output_type": "execute_result"
    }
   ],
   "source": [
    "fp = view.values('filepath')[38945]\n",
    "img = cv2.imread(fp)\n",
    "hsv = cv2.cvtColor(box_img,cv2.COLOR_BGR2HSV)\n"
   ]
  },
  {
   "cell_type": "code",
   "execution_count": 53,
   "id": "9fddbe2d-f822-4251-95ac-85a07bfabb3b",
   "metadata": {},
   "outputs": [],
   "source": [
    "import cv2\n",
    "import numpy as np\n",
    "from tqdm import tqdm\n",
    "\n",
    "lightness_values = []\n",
    "contrast_values = []\n",
    "\n",
    "for ix, sample in tqdm(enumerate(view)):\n",
    "    # if ix < 35000:\n",
    "    #     continue\n",
    "    fp  = sample.filepath\n",
    "    img = cv2.imread(fp)\n",
    "    h, w = img.shape[:2]\n",
    "    dets = sample.ground_truth.detections\n",
    "    \n",
    "    v = 300\n",
    "    for det in dets:\n",
    "        x1, y1, wl, hl = det.bounding_box\n",
    "        x2 = int((x1+wl)*w)\n",
    "        y2 = int((y1+hl)*h)\n",
    "        x1 = int(x1*w)\n",
    "        y1 = int(y1*h)\n",
    "        box_img = img[y1:y2, x1:x2]\n",
    "        if box_img.size==0: # some box has 0 width / height, set 0 to all and stop looping`\n",
    "            v = c = 0\n",
    "            break\n",
    "        else:\n",
    "            hsv = cv2.cvtColor(box_img,cv2.COLOR_BGR2HSV)\n",
    "            new_v = np.mean(hsv[...,[2]])\n",
    "            if new_v < v:\n",
    "                v = new_v\n",
    "                c = np.std(hsv[...,[2]])\n",
    "                \n",
    "    if v == 300:\n",
    "        v = c = 0\n",
    "    lightness_values.append(v)\n",
    "    contrast_values.append(c)\n",
    "\n",
    "    \n",
    "view.set_values('lightness', lightness_values)\n",
    "view.set_values('contrast', contrast_values)\n",
    "\n",
    "light_view = view.sort_by(\"lightness\")\n",
    "session.view = light_view\n",
    "clear_output()"
   ]
  },
  {
   "cell_type": "markdown",
   "id": "93491e89-76b6-4b22-90d7-a2e3648b2a45",
   "metadata": {},
   "source": [
    "=> go to 51-APP, find relevant lightness threshold and contrast threshold and update to `config.LIGHTNESS_THRESHOLD`, `config.CONTRAST_THRESHOLD`"
   ]
  },
  {
   "cell_type": "code",
   "execution_count": 90,
   "id": "76f61083-1943-4396-977c-474505b156ad",
   "metadata": {},
   "outputs": [
    {
     "name": "stdout",
     "output_type": "stream",
     "text": [
      "605 images to delete\n"
     ]
    }
   ],
   "source": [
    "# RUN WITH CAUTION\n",
    "del_ids = []\n",
    "for ix, id_ in enumerate(view.values('id')):\n",
    "    if lightness_values[ix]<config.LIGHTNESS_THRESHOLD or contrast_values[ix]<config.CONTRAST_THRESHOLD:\n",
    "        del_ids.append(id_)\n",
    "        \n",
    "print(len(del_ids),'images to delete')\n",
    "dataset.delete_samples(del_ids)"
   ]
  },
  {
   "cell_type": "markdown",
   "id": "840cf734-1d43-4267-bbeb-f30e91c8d723",
   "metadata": {},
   "source": [
    "=> review remain dataset in the app. Update config and re-run filter if needed."
   ]
  },
  {
   "cell_type": "markdown",
   "id": "0a167e43-8675-4f07-8825-4de652220083",
   "metadata": {},
   "source": [
    "# Final export"
   ]
  },
  {
   "cell_type": "code",
   "execution_count": 121,
   "id": "dc7764bb-7c75-482e-81f2-1a36f8c950d9",
   "metadata": {},
   "outputs": [
    {
     "name": "stdout",
     "output_type": "stream",
     "text": [
      "Exporting train\n",
      " 100% |█████████████| 12710/12710 [1.7m elapsed, 0s remaining, 124.7 samples/s]       \n",
      "Exporting test\n",
      "Directory 'export_filtered' already exists; export will be merged with existing files\n",
      " 100% |█████████████| 15026/15026 [1.8m elapsed, 0s remaining, 219.5 samples/s]      \n",
      "Exporting train_aug\n",
      "Directory 'export_filtered' already exists; export will be merged with existing files\n",
      " 100% |█████████████| 22375/22375 [2.4m elapsed, 0s remaining, 206.5 samples/s]      \n"
     ]
    },
    {
     "data": {
      "text/plain": [
       "{'train': 12710, 'test': 15026, 'train_aug': 22375}"
      ]
     },
     "execution_count": 121,
     "metadata": {},
     "output_type": "execute_result"
    }
   ],
   "source": [
    "# Use when any change applied to dataset\n",
    "for split in view.count_sample_tags().keys():\n",
    "    print(f'Exporting {split}')\n",
    "    split_view = view.match_tags(split)\n",
    "\n",
    "    # Export the dataset\n",
    "    split_view.export(\n",
    "        export_dir=config.EXPORT_DIR+'_filtered',\n",
    "        dataset_type=config.EXPORT_DATASET_TYPE,\n",
    "        label_field='ground_truth',\n",
    "        classes=config.CLASSES_OF_INTEREST,\n",
    "        split=split,\n",
    "    )\n",
    "dataset.count_sample_tags()"
   ]
  },
  {
   "cell_type": "markdown",
   "id": "d1ba846e-3f3a-4d6b-bd24-97cdf745fb33",
   "metadata": {},
   "source": [
    "# Visualize dataset"
   ]
  },
  {
   "cell_type": "code",
   "execution_count": 4,
   "id": "1645d715-0f68-4971-89fa-13c4b9e0437d",
   "metadata": {},
   "outputs": [
    {
     "data": {
      "text/plain": [
       "[<matplotlib.lines.Line2D at 0x7f70538c1250>]"
      ]
     },
     "execution_count": 4,
     "metadata": {},
     "output_type": "execute_result"
    },
    {
     "data": {
      "application/vnd.jupyter.widget-view+json": {
       "model_id": "c69a8b058b4448719de433ae026a2ef9",
       "version_major": 2,
       "version_minor": 0
      },
      "image/png": "[encoded data removed]",
      "text/html": [
       "\n",
       "            <div style=\"display: inline-block;\">\n",
       "                <div class=\"jupyter-widgets widget-label\" style=\"text-align: center;\">\n",
       "                    Figure\n",
       "                </div>\n",
       "                <img src='data:image/png;base64,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' width=640.0/>\n",
       "            </div>\n",
       "        "
      ],
      "text/plain": [
       "Canvas(toolbar=Toolbar(toolitems=[('Home', 'Reset original view', 'home', 'home'), ('Back', 'Back to previous …"
      ]
     },
     "metadata": {},
     "output_type": "display_data"
    }
   ],
   "source": [
    "%matplotlib widget\n",
    "import matplotlib.pyplot as plt\n",
    "plt.plot([0, 1, 2])"
   ]
  },
  {
   "cell_type": "code",
   "execution_count": 5,
   "id": "08b4e01a-a02c-499e-aab8-28e42c99e655",
   "metadata": {},
   "outputs": [],
   "source": [
    "dataset = fo.load_dataset(config.DATASET_AUG_NAME)"
   ]
  },
  {
   "cell_type": "code",
   "execution_count": 11,
   "id": "59e666c8-2a55-4f75-a093-e5acd4816071",
   "metadata": {},
   "outputs": [],
   "source": [
    "view = dataset.view()"
   ]
  },
  {
   "cell_type": "code",
   "execution_count": 12,
   "id": "910d4b6b-76a3-412e-9158-ef78c4ff3d4f",
   "metadata": {},
   "outputs": [],
   "source": [
    "session.view=view\n",
    "clear_output()"
   ]
  },
  {
   "cell_type": "code",
   "execution_count": 13,
   "id": "538222f4-db73-4c09-922c-7e83676c96f7",
   "metadata": {},
   "outputs": [
    {
     "name": "stdout",
     "output_type": "stream",
     "text": [
      " 100% |█████████████| 50111/50111 [3.9h elapsed, 0s remaining, 3.6 samples/s]      \n",
      "Generating visualization...\n",
      "UMAP(random_state=51, verbose=True)\n",
      "Mon Dec 20 03:08:09 2021 Construct fuzzy simplicial set\n",
      "Mon Dec 20 03:08:09 2021 Finding Nearest Neighbors\n",
      "Mon Dec 20 03:08:09 2021 Building RP forest with 16 trees\n",
      "Mon Dec 20 03:08:14 2021 NN descent for 16 iterations\n",
      "\t 1  /  16\n",
      "\t 2  /  16\n",
      "\t 3  /  16\n",
      "\t 4  /  16\n",
      "\t 5  /  16\n",
      "\tStopping threshold met -- exiting after 5 iterations\n",
      "Mon Dec 20 03:08:28 2021 Finished Nearest Neighbor Search\n",
      "Mon Dec 20 03:08:29 2021 Construct embedding\n"
     ]
    },
    {
     "data": {
      "application/vnd.jupyter.widget-view+json": {
       "model_id": "9948fb0e37b24e14a97a1a28c13fb852",
       "version_major": 2,
       "version_minor": 0
      },
      "text/plain": [
       "Epochs completed:   0%|            0/200 [00:00]"
      ]
     },
     "metadata": {},
     "output_type": "display_data"
    },
    {
     "name": "stdout",
     "output_type": "stream",
     "text": [
      "Mon Dec 20 03:09:02 2021 Finished embedding\n"
     ]
    }
   ],
   "source": [
    "model = foz.load_zoo_model(\"mobilenet-v2-imagenet-torch\")\n",
    "embeddings = view.compute_embeddings(\n",
    "    model,\n",
    "    # patches_field=\"predictions\",\n",
    "    num_dims=2,\n",
    "    method=\"umap\",\n",
    "    verbose=True,\n",
    "    seed=51,)\n",
    "\n",
    "# Compute visualization\n",
    "results = fob.compute_visualization(view, embeddings=embeddings, seed=51)"
   ]
  },
  {
   "cell_type": "code",
   "execution_count": 9,
   "id": "12c0feb1-6575-4b11-880b-141e15f1d6ae",
   "metadata": {},
   "outputs": [
    {
     "data": {
      "text/plain": [
       "(100, 1280)"
      ]
     },
     "execution_count": 9,
     "metadata": {},
     "output_type": "execute_result"
    }
   ],
   "source": [
    "embeddings.shape"
   ]
  },
  {
   "cell_type": "code",
   "execution_count": 14,
   "id": "b83bfa41-3b12-442f-ab53-6e5faf45e1ad",
   "metadata": {},
   "outputs": [],
   "source": [
    "view.set_values('embeddings', embeddings)"
   ]
  },
  {
   "cell_type": "code",
   "execution_count": null,
   "id": "3061cb45-3ea4-44c7-b860-c5597d082879",
   "metadata": {
    "scrolled": true
   },
   "outputs": [],
   "source": [
    "%matplotlib widget\n",
    "\n",
    "# if error \"Error displaying widget: model not found\" => try jupyter notebook instead of jupyter lab\n",
    "# or see https://github.com/matplotlib/ipympl/issues/112#issuecomment-798781053\n",
    "\n",
    "# Generate scatterplot\n",
    "plot = results.visualize(\n",
    "    labels='embeddings',\n",
    "    # labels_title=\"time of day\",\n",
    "    # axis_equal=True,\n",
    ")\n",
    "plot.show(height=512)\n",
    "\n",
    "# # Connect to session\n",
    "session.plots.attach(plot)"
   ]
  }
 ],
 "metadata": {
  "kernelspec": {
   "display_name": "Python 3 (ipykernel)",
   "language": "python",
   "name": "python3"
  },
  "language_info": {
   "codemirror_mode": {
    "name": "ipython",
    "version": 3
   },
   "file_extension": ".py",
   "mimetype": "text/x-python",
   "name": "python",
   "nbconvert_exporter": "python",
   "pygments_lexer": "ipython3",
   "version": "3.7.11"
  }
 },
 "nbformat": 4,
 "nbformat_minor": 5
}
