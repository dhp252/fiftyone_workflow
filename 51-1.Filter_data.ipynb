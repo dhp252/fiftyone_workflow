{
 "cells": [
  {
   "cell_type": "markdown",
   "id": "2bc4ef68-f80c-4239-b350-9fe81190eb6d",
   "metadata": {},
   "source": [
    "# Init"
   ]
  },
  {
   "cell_type": "code",
   "execution_count": 1,
   "id": "fc5edaca-42a2-4f2c-9bfb-3522d233ed6b",
   "metadata": {},
   "outputs": [],
   "source": [
    "%load_ext autoreload\n",
    "%autoreload 2\n",
    "\n",
    "import fiftyone as fo\n",
    "import fiftyone.zoo as foz\n",
    "from fiftyone import ViewField as F\n",
    "import fiftyone.brain as fob\n",
    "import fiftyone.utils.eval as foue\n",
    "import config\n",
    "\n",
    "import cv2"
   ]
  },
  {
   "cell_type": "code",
   "execution_count": 2,
   "id": "da8c927d-150a-4ba7-87fa-64e766add51a",
   "metadata": {},
   "outputs": [],
   "source": [
    "from IPython.display import clear_output\n",
    "session = fo.launch_app()\n",
    "# session.open_tab()\n",
    "clear_output()"
   ]
  },
  {
   "cell_type": "markdown",
   "id": "8c5c77fa-8197-43fc-96fe-281408945280",
   "metadata": {},
   "source": [
    "# Load dataset"
   ]
  },
  {
   "cell_type": "code",
   "execution_count": 41,
   "id": "17eea518-93a5-467d-989b-36c57fd8f6b4",
   "metadata": {},
   "outputs": [],
   "source": [
    "# fo.delete_dataset(name=config.DATASET_MOD_NAME)"
   ]
  },
  {
   "cell_type": "code",
   "execution_count": 3,
   "id": "a5c4915e-c0d5-4236-b3e0-ba4d52d77bde",
   "metadata": {},
   "outputs": [],
   "source": [
    "# # Load existing dataset from the database\n",
    "try:\n",
    "    dataset = fo.load_dataset(name=config.DATASET_MOD_NAME)\n",
    "except ValueError:\n",
    "    print(f\"Dataset {config.DATASET_MOD_NAME} not exists, cloning from zoo\")\n",
    "    dataset = fo.load_dataset(name=config.DATASET_ZOO_NAME)\n",
    "    dataset = dataset.clone()\n",
    "    dataset.name = config.DATASET_MOD_NAME\n",
    "\n",
    "dataset.persistent=True\n",
    "# dataset = dataset.view()"
   ]
  },
  {
   "cell_type": "markdown",
   "id": "39619c8f-d331-4752-ae4a-a8fb62e057be",
   "metadata": {},
   "source": [
    "# Filter label by class"
   ]
  },
  {
   "cell_type": "code",
   "execution_count": 11,
   "id": "49a23f25-585f-4f3d-a187-c2721fcf3635",
   "metadata": {},
   "outputs": [],
   "source": [
    "view = dataset.filter_labels(config.LABEL_FIELD, F(\"label\").is_in(config.CLASSES_OF_INTEREST))\n",
    "# dataset = dataset.match_tags('validation')\n",
    "session.view = view\n",
    "clear_output()"
   ]
  },
  {
   "cell_type": "markdown",
   "id": "9cb379a0-1fc5-4f1e-8fa8-0ccf24cf2eb9",
   "metadata": {
    "tags": []
   },
   "source": [
    "# Remove duplicates"
   ]
  },
  {
   "cell_type": "code",
   "execution_count": 13,
   "id": "0c0ed6f9-64f6-40bb-822f-123c00ee964a",
   "metadata": {},
   "outputs": [],
   "source": [
    "IOU_THRES = 0.75\n",
    "\n",
    "foue.compute_max_ious(view, config.LABEL_FIELD, attr_name=\"max_iou\", classwise=True)\n",
    "\n",
    "# Retrieve detections that overlap above a chosen threshold\n",
    "dups_view = dataset.filter_labels(config.LABEL_FIELD, F(\"max_iou\") >= IOU_THRES)\n",
    "session.view = dups_view\n",
    "clear_output()"
   ]
  },
  {
   "cell_type": "code",
   "execution_count": 14,
   "id": "56fcab17-5f34-44fb-a664-920669771b5c",
   "metadata": {},
   "outputs": [],
   "source": [
    "# # Method 1: Go to app, tag images as 'duplicate' => delete by 3 lines below\n",
    "# print(dataset.count_label_tags())\n",
    "# dataset.delete_labels(tags=\"duplicate\")\n",
    "# print(dataset.count_label_tags())\n",
    "\n",
    "# # Method 2: Delete all images filtered by the expression\n",
    "dataset.delete_samples(dups_view)\n",
    "\n",
    "# # Method 3: Tag labels and delete only tho\n",
    "# print(dataset.count_label_tags())\n",
    "# dups_view.tag_labels(\"duplicate\", label_fields=config.LABEL_FIELD)\n",
    "# print(dataset.count_label_tags())\n",
    "# dataset.delete_labels(tags=\"duplicate\")\n",
    "# print(dataset.count_label_tags())"
   ]
  },
  {
   "cell_type": "markdown",
   "id": "8bfc520b-8cea-4075-91e4-35f5056bb843",
   "metadata": {},
   "source": [
    "# Calculate uniqueness\n"
   ]
  },
  {
   "cell_type": "code",
   "execution_count": 91,
   "id": "a1fd4f26-b931-4111-a523-df2c5a49e15e",
   "metadata": {},
   "outputs": [
    {
     "name": "stdout",
     "output_type": "stream",
     "text": [
      "Generating embeddings...\n",
      " 100% |█████████████| 27888/27888 [6.9m elapsed, 0s remaining, 108.6 samples/s]      \n",
      "Computing uniqueness...\n",
      "Computing neighbors for 27888 embeddings; this may take awhile...\n",
      "Uniqueness computation complete\n"
     ]
    }
   ],
   "source": [
    "fob.compute_uniqueness(view)\n",
    "dataset.save()"
   ]
  },
  {
   "cell_type": "code",
   "execution_count": 42,
   "id": "1319685d-83b4-4790-a466-4ee099b0eb9f",
   "metadata": {},
   "outputs": [],
   "source": [
    "unique_view = view.sort_by(\"uniqueness\")\n",
    "session.view = unique_view\n",
    "clear_output()"
   ]
  },
  {
   "cell_type": "markdown",
   "id": "1278059f-8940-48d0-9cd7-690b64cb1d98",
   "metadata": {},
   "source": [
    "# Calculate similarity\n"
   ]
  },
  {
   "cell_type": "code",
   "execution_count": 92,
   "id": "8c6b3663-8bf3-4cf1-88aa-45f4d22db83d",
   "metadata": {},
   "outputs": [
    {
     "name": "stdout",
     "output_type": "stream",
     "text": [
      "Computing embeddings...\n",
      " 100% |█████████████| 27888/27888 [2.1h elapsed, 0s remaining, 4.2 samples/s]      \n"
     ]
    }
   ],
   "source": [
    "fob.compute_similarity(view, brain_key=\"image_sim\")\n",
    "dataset.save()"
   ]
  },
  {
   "cell_type": "markdown",
   "id": "cf76fa8e-b566-43e3-ba20-33773c190a27",
   "metadata": {
    "tags": []
   },
   "source": [
    "# Add custom tag"
   ]
  },
  {
   "cell_type": "markdown",
   "id": "f2b95cf7-de39-49d9-bb76-2a25c3095ff4",
   "metadata": {},
   "source": [
    "## Lightness"
   ]
  },
  {
   "cell_type": "markdown",
   "id": "a805cd1f-0247-4e26-b334-7dbe9312d403",
   "metadata": {},
   "source": [
    "## Lightness on whole img"
   ]
  },
  {
   "cell_type": "code",
   "execution_count": null,
   "id": "f242405d-c44e-44d4-be0d-ceb3574f4d28",
   "metadata": {},
   "outputs": [],
   "source": [
    "dataset.add_sample_field(field_name='lightness', ftype=fo.FloatField)"
   ]
  },
  {
   "cell_type": "code",
   "execution_count": null,
   "id": "764f3ca0-90e3-472b-b0b0-bef33ce735e8",
   "metadata": {},
   "outputs": [],
   "source": [
    "import cv2\n",
    "import numpy as np\n",
    "from tqdm import tqdm\n",
    "\n",
    "lightness_values = []\n",
    "\n",
    "for f in tqdm(view.values(\"filepath\")):\n",
    "    img = cv2.imread(f)\n",
    "    hsv = cv2.cvtColor(img,cv2.COLOR_BGR2HSV)\n",
    "    v = np.mean(hsv[...,[2]])\n",
    "    lightness_values.append(v)"
   ]
  },
  {
   "cell_type": "code",
   "execution_count": null,
   "id": "046d6c0c-8903-494d-9a87-2726e263b852",
   "metadata": {},
   "outputs": [],
   "source": [
    "view.set_values('lightness', lightness_values)"
   ]
  },
  {
   "cell_type": "code",
   "execution_count": null,
   "id": "998f9da5-115e-46ee-a968-44d225204721",
   "metadata": {},
   "outputs": [],
   "source": [
    "light_view = view.sort_by(\"lightness\")\n",
    "session.view = light_view\n",
    "clear_output()"
   ]
  },
  {
   "cell_type": "code",
   "execution_count": 15,
   "id": "290bdc10-69b6-4436-99de-b213fe5c396d",
   "metadata": {},
   "outputs": [
    {
     "data": {
      "text/plain": [
       "{'test': 15095, 'validation': 5025, 'del': 142, 'train': 7768}"
      ]
     },
     "execution_count": 15,
     "metadata": {},
     "output_type": "execute_result"
    }
   ],
   "source": [
    "dataset.count_sample_tags()"
   ]
  },
  {
   "cell_type": "code",
   "execution_count": 9,
   "id": "6f5a3553-f934-4a55-84f6-38c2269080e7",
   "metadata": {},
   "outputs": [
    {
     "data": {
      "text/plain": [
       "Dataset:     open-images-v6_mod\n",
       "Media type:  image\n",
       "Num samples: 27888\n",
       "Tags:        ['del', 'test', 'train', 'validation']\n",
       "Sample fields:\n",
       "    id:             fiftyone.core.fields.ObjectIdField\n",
       "    filepath:       fiftyone.core.fields.StringField\n",
       "    tags:           fiftyone.core.fields.ListField(fiftyone.core.fields.StringField)\n",
       "    metadata:       fiftyone.core.fields.EmbeddedDocumentField(fiftyone.core.metadata.Metadata)\n",
       "    detections:     fiftyone.core.fields.EmbeddedDocumentField(fiftyone.core.labels.Detections)\n",
       "    open_images_id: fiftyone.core.fields.StringField\n",
       "    lightness:      fiftyone.core.fields.FloatField\n",
       "    contrast:       fiftyone.core.fields.FloatField\n",
       "    uniqueness:     fiftyone.core.fields.FloatField\n",
       "View stages:\n",
       "    1. FilterLabels(field='detections', filter={'$in': ['$$this.label', [...]]}, only_matches=True, trajectories=False)"
      ]
     },
     "execution_count": 9,
     "metadata": {},
     "output_type": "execute_result"
    }
   ],
   "source": [
    "view"
   ]
  },
  {
   "cell_type": "markdown",
   "id": "36ecbb62-2cc5-4377-8e3a-f301c381488e",
   "metadata": {},
   "source": [
    "## Lowest lightness from boxes in img"
   ]
  },
  {
   "cell_type": "code",
   "execution_count": 80,
   "id": "a6655fe5-52fb-44a1-addc-124d780aaeb3",
   "metadata": {},
   "outputs": [
    {
     "name": "stderr",
     "output_type": "stream",
     "text": [
      " 63%|████████████████████████████████████████████████████████████████████████████████████████████████████████████████████████████████████████████████████████████████████████████                                                                                                     | 17579/27888 [05:37<03:04, 55.90it/s]Corrupt JPEG data: bad Huffman code\n",
      "100%|█████████████████████████████████████████████████████████████████████████████████████████████████████████████████████████████████████████████████████████████████████████████████████████████████████████████████████████████████████████████████████████████████████████████████| 27888/27888 [08:42<00:00, 53.36it/s]\n"
     ]
    }
   ],
   "source": [
    "import cv2\n",
    "import numpy as np\n",
    "from tqdm import tqdm\n",
    "\n",
    "lightness_values = []\n",
    "contrast_values = []\n",
    "\n",
    "for sample in tqdm(view):\n",
    "    fp  = sample.filepath\n",
    "    img = cv2.imread(fp)\n",
    "    h, w = img.shape[:2]\n",
    "    v = 1000\n",
    "    for det in sample[config.LABEL_FIELD].detections:\n",
    "        x1, y1, wl, hl = det.bounding_box\n",
    "        x2 = int((x1+wl)*w)\n",
    "        y2 = int((y1+hl)*h)\n",
    "        x1 = int(x1*w)\n",
    "        y1 = int(y1*h)\n",
    "        box_img = img[y1:y2, x1:x2]\n",
    "        hsv = cv2.cvtColor(box_img,cv2.COLOR_BGR2HSV)\n",
    "        new_v = np.mean(hsv[...,[2]])\n",
    "        if new_v < v:\n",
    "            v = new_v\n",
    "            c = np.std(hsv[...,[2]])\n",
    "        \n",
    "    lightness_values.append(v)\n",
    "    contrast_values.append(c)\n",
    "\n",
    "    \n",
    "view.set_values('lightness', lightness_values)\n",
    "view.set_values('contrast', contrast_values)\n",
    "\n",
    "light_view = view.sort_by(\"lightness\")\n",
    "session.view = light_view\n",
    "clear_output()"
   ]
  },
  {
   "cell_type": "code",
   "execution_count": null,
   "id": "de0a35c2-0ec3-4a06-84fe-13b00e3ca1bc",
   "metadata": {},
   "outputs": [],
   "source": [
    "for i, id_ in enumerate(view.values('id')):\n",
    "    view.values('lightness')\n",
    "    view.values('contrast')"
   ]
  },
  {
   "cell_type": "markdown",
   "id": "f71edd13-be73-4dc6-ab47-7148508bb7a1",
   "metadata": {},
   "source": [
    "## Aggregate statistics (box area)"
   ]
  },
  {
   "cell_type": "code",
   "execution_count": null,
   "id": "d7a76c9a-f0bf-4f2e-8db3-c9a3c47b8cb3",
   "metadata": {},
   "outputs": [],
   "source": [
    "view.compute_metadata()\n",
    "\n",
    "# Expression that computes the area of a bounding box, in pixels\n",
    "# Bboxes are in [top-left-x, top-left-y, width, height] format\n",
    "bbox_width = F(\"bounding_box\")[2] * F(\"$metadata.width\")\n",
    "bbox_height = F(\"bounding_box\")[3] * F(\"$metadata.height\")\n",
    "bbox_area = bbox_width * bbox_height\n",
    "\n",
    "# Expression that computes the area of ground truth bboxes\n",
    "gt_areas = F(\"ground_truth.detections[]\").apply(bbox_area)\n",
    "\n",
    "# Compute (min, max, mean) of ground truth bounding boxes\n",
    "print(dataset.bounds(gt_areas))\n",
    "print(dataset.mean(gt_areas))"
   ]
  },
  {
   "cell_type": "code",
   "execution_count": null,
   "id": "9fcd359b-1989-4060-acb3-04fddc83df8d",
   "metadata": {},
   "outputs": [],
   "source": [
    "for sample in view:\n",
    "    fp  = sample.filepath\n",
    "    img = cv2.imread(fp)\n",
    "    h, w = img.shape[:2]\n",
    "    for det in sample[config.LABEL_FIELD].detections:\n",
    "        box = det.bounding_box\n",
    "        x1, y1, wl, hl = box\n",
    "        x2 = int((x1+wl)*w)\n",
    "        y2 = int((y1+hl)*h)\n",
    "        x1 = int(x1*w)\n",
    "        y1 = int(y1*h)\n",
    "        box_img = img[y1:y2, x1:x2]\n",
    "        \n",
    "    break"
   ]
  },
  {
   "cell_type": "code",
   "execution_count": null,
   "id": "29e4971b-4d7f-4627-9b9d-82c7d20d2292",
   "metadata": {},
   "outputs": [],
   "source": [
    "dataset.first()[config.LABEL_FIELD]['detections']"
   ]
  },
  {
   "cell_type": "markdown",
   "id": "9912662d-d50a-414f-9b57-a4bee9765472",
   "metadata": {},
   "source": [
    "# Remove labels that is in group and inside the object"
   ]
  },
  {
   "cell_type": "code",
   "execution_count": 16,
   "id": "13a5e607-c5d7-4e00-9acc-5253e4efd5f6",
   "metadata": {},
   "outputs": [],
   "source": [
    "group_view = view.filter_labels(config.LABEL_FIELD, F('IsGroupOf') == True)\n",
    "group_view.tag_labels(\"isGroup\", label_fields=config.LABEL_FIELD)\n",
    "print(dataset.count_label_tags())\n",
    "\n",
    "session.view = group_view\n",
    "clear_output()"
   ]
  },
  {
   "cell_type": "code",
   "execution_count": 17,
   "id": "f9ca35c6-91af-4af8-9efd-a118c4bcff06",
   "metadata": {},
   "outputs": [
    {
     "name": "stderr",
     "output_type": "stream",
     "text": [
      "Exception in thread Thread-9:\n",
      "Traceback (most recent call last):\n",
      "  File \"/home/dhp/miniconda3/envs/dhp/lib/python3.7/threading.py\", line 926, in _bootstrap_inner\n",
      "    self.run()\n",
      "  File \"/home/dhp/miniconda3/envs/dhp/lib/python3.7/threading.py\", line 870, in run\n",
      "    self._target(*self._args, **self._kwargs)\n",
      "  File \"/home/dhp/miniconda3/envs/dhp/lib/python3.7/site-packages/fiftyone/core/client.py\", line 125, in run_client\n",
      "    io_loop.run_sync(connect)\n",
      "  File \"/home/dhp/.local/lib/python3.7/site-packages/tornado/ioloop.py\", line 530, in run_sync\n",
      "    return future_cell[0].result()\n",
      "  File \"/home/dhp/miniconda3/envs/dhp/lib/python3.7/site-packages/fiftyone/core/client.py\", line 104, in connect\n",
      "    message[\"state\"], with_config=config\n",
      "  File \"/home/dhp/miniconda3/envs/dhp/lib/python3.7/site-packages/fiftyone/core/state.py\", line 132, in from_dict\n",
      "    view = fov.DatasetView._build(dataset, stages)\n",
      "  File \"/home/dhp/miniconda3/envs/dhp/lib/python3.7/site-packages/fiftyone/core/view.py\", line 736, in _build\n",
      "    view = view.add_stage(stage)\n",
      "  File \"/home/dhp/miniconda3/envs/dhp/lib/python3.7/site-packages/fiftyone/core/collections.py\", line 2246, in add_stage\n",
      "    return self._add_view_stage(stage)\n",
      "  File \"/home/dhp/miniconda3/envs/dhp/lib/python3.7/site-packages/fiftyone/core/view.py\", line 776, in _add_view_stage\n",
      "    stage.validate(self)\n",
      "  File \"/home/dhp/miniconda3/envs/dhp/lib/python3.7/site-packages/fiftyone/core/stages.py\", line 5103, in validate\n",
      "    sample_collection.validate_fields_exist(field_or_expr)\n",
      "  File \"/home/dhp/miniconda3/envs/dhp/lib/python3.7/site-packages/fiftyone/core/collections.py\", line 567, in validate_fields_exist\n",
      "    raise ValueError(\"Field '%s' does not exist\" % field_name)\n",
      "ValueError: Field 'lightness' does not exist\n",
      "\n"
     ]
    }
   ],
   "source": [
    "inside_view = view.filter_labels(config.LABEL_FIELD, F('IsInside') == True)\n",
    "inside_view.tag_labels(\"isInside\", label_fields=config.LABEL_FIELD)\n",
    "print(dataset.count_label_tags())\n",
    "\n",
    "session.view = inside_view\n",
    "clear_output()"
   ]
  },
  {
   "cell_type": "code",
   "execution_count": 16,
   "id": "77f05e72-f370-4a12-9c5d-a1a918d34004",
   "metadata": {},
   "outputs": [
    {
     "name": "stdout",
     "output_type": "stream",
     "text": [
      "{}\n",
      "{}\n"
     ]
    }
   ],
   "source": [
    "# # Method 1: delete labels, keep sample\n",
    "# print(dataset.count_label_tags())\n",
    "# dataset.delete_labels(tags=\"isGroup\")\n",
    "# dataset.delete_labels(tags=\"isInside\")\n",
    "# print(dataset.count_label_tags())\n",
    "\n",
    "# # Method 2: Delete sample\n",
    "print(dataset.count_label_tags())\n",
    "dataset.delete_samples(group_view)\n",
    "dataset.delete_samples(inside_view)\n",
    "print(dataset.count_label_tags())"
   ]
  },
  {
   "cell_type": "markdown",
   "id": "b0794b5c-b807-4a3f-8127-34692b707985",
   "metadata": {
    "tags": []
   },
   "source": [
    "# Export data and labels"
   ]
  },
  {
   "cell_type": "code",
   "execution_count": 18,
   "id": "1f80d648-bcbc-4bc4-b328-7e067d434108",
   "metadata": {},
   "outputs": [
    {
     "name": "stdout",
     "output_type": "stream",
     "text": [
      "Exporting test\n",
      "Directory 'export' already exists; export will be merged with existing files\n"
     ]
    },
    {
     "ename": "KeyboardInterrupt",
     "evalue": "",
     "output_type": "error",
     "traceback": [
      "\u001b[0;31m---------------------------------------------------------------------------\u001b[0m",
      "\u001b[0;31mKeyboardInterrupt\u001b[0m                         Traceback (most recent call last)",
      "\u001b[0;32m/tmp/ipykernel_761993/778871085.py\u001b[0m in \u001b[0;36m<module>\u001b[0;34m\u001b[0m\n\u001b[1;32m     10\u001b[0m         \u001b[0mlabel_field\u001b[0m\u001b[0;34m=\u001b[0m\u001b[0mconfig\u001b[0m\u001b[0;34m.\u001b[0m\u001b[0mLABEL_FIELD\u001b[0m\u001b[0;34m,\u001b[0m\u001b[0;34m\u001b[0m\u001b[0;34m\u001b[0m\u001b[0m\n\u001b[1;32m     11\u001b[0m         \u001b[0mclasses\u001b[0m\u001b[0;34m=\u001b[0m\u001b[0mconfig\u001b[0m\u001b[0;34m.\u001b[0m\u001b[0mCLASSES_OF_INTEREST\u001b[0m\u001b[0;34m,\u001b[0m\u001b[0;34m\u001b[0m\u001b[0;34m\u001b[0m\u001b[0m\n\u001b[0;32m---> 12\u001b[0;31m         \u001b[0msplit\u001b[0m\u001b[0;34m=\u001b[0m\u001b[0msplit\u001b[0m\u001b[0;34m,\u001b[0m\u001b[0;34m\u001b[0m\u001b[0;34m\u001b[0m\u001b[0m\n\u001b[0m\u001b[1;32m     13\u001b[0m     )\n\u001b[1;32m     14\u001b[0m \u001b[0mdataset\u001b[0m\u001b[0;34m.\u001b[0m\u001b[0mcount_sample_tags\u001b[0m\u001b[0;34m(\u001b[0m\u001b[0;34m)\u001b[0m\u001b[0;34m\u001b[0m\u001b[0;34m\u001b[0m\u001b[0m\n",
      "\u001b[0;32m~/miniconda3/envs/dhp/lib/python3.7/site-packages/fiftyone/core/collections.py\u001b[0m in \u001b[0;36mexport\u001b[0;34m(self, export_dir, dataset_type, data_path, labels_path, export_media, dataset_exporter, label_field, frame_labels_field, overwrite, **kwargs)\u001b[0m\n\u001b[1;32m   5996\u001b[0m                 \u001b[0mlabels_path\u001b[0m\u001b[0;34m=\u001b[0m\u001b[0mlabels_path\u001b[0m\u001b[0;34m,\u001b[0m\u001b[0;34m\u001b[0m\u001b[0;34m\u001b[0m\u001b[0m\n\u001b[1;32m   5997\u001b[0m                 \u001b[0mexport_media\u001b[0m\u001b[0;34m=\u001b[0m\u001b[0mexport_media\u001b[0m\u001b[0;34m,\u001b[0m\u001b[0;34m\u001b[0m\u001b[0;34m\u001b[0m\u001b[0m\n\u001b[0;32m-> 5998\u001b[0;31m                 \u001b[0;34m**\u001b[0m\u001b[0mkwargs\u001b[0m\u001b[0;34m,\u001b[0m\u001b[0;34m\u001b[0m\u001b[0;34m\u001b[0m\u001b[0m\n\u001b[0m\u001b[1;32m   5999\u001b[0m             )\n\u001b[1;32m   6000\u001b[0m \u001b[0;34m\u001b[0m\u001b[0m\n",
      "\u001b[0;32m~/miniconda3/envs/dhp/lib/python3.7/site-packages/fiftyone/utils/data/exporters.py\u001b[0m in \u001b[0;36mbuild_dataset_exporter\u001b[0;34m(dataset_type, strip_none, warn_unused, **kwargs)\u001b[0m\n\u001b[1;32m    431\u001b[0m         \u001b[0mdataset_type\u001b[0m \u001b[0;34m=\u001b[0m \u001b[0mdataset_type\u001b[0m\u001b[0;34m(\u001b[0m\u001b[0;34m)\u001b[0m\u001b[0;34m\u001b[0m\u001b[0;34m\u001b[0m\u001b[0m\n\u001b[1;32m    432\u001b[0m \u001b[0;34m\u001b[0m\u001b[0m\n\u001b[0;32m--> 433\u001b[0;31m     \u001b[0mdataset_exporter_cls\u001b[0m \u001b[0;34m=\u001b[0m \u001b[0mdataset_type\u001b[0m\u001b[0;34m.\u001b[0m\u001b[0mget_dataset_exporter_cls\u001b[0m\u001b[0;34m(\u001b[0m\u001b[0;34m)\u001b[0m\u001b[0;34m\u001b[0m\u001b[0;34m\u001b[0m\u001b[0m\n\u001b[0m\u001b[1;32m    434\u001b[0m \u001b[0;34m\u001b[0m\u001b[0m\n\u001b[1;32m    435\u001b[0m     \u001b[0;32mif\u001b[0m \u001b[0mstrip_none\u001b[0m\u001b[0;34m:\u001b[0m\u001b[0;34m\u001b[0m\u001b[0;34m\u001b[0m\u001b[0m\n",
      "\u001b[0;32m~/miniconda3/envs/dhp/lib/python3.7/site-packages/fiftyone/types/dataset_types.py\u001b[0m in \u001b[0;36mget_dataset_exporter_cls\u001b[0;34m(self)\u001b[0m\n\u001b[1;32m    544\u001b[0m \u001b[0;34m\u001b[0m\u001b[0m\n\u001b[1;32m    545\u001b[0m     \u001b[0;32mdef\u001b[0m \u001b[0mget_dataset_exporter_cls\u001b[0m\u001b[0;34m(\u001b[0m\u001b[0mself\u001b[0m\u001b[0;34m)\u001b[0m\u001b[0;34m:\u001b[0m\u001b[0;34m\u001b[0m\u001b[0;34m\u001b[0m\u001b[0m\n\u001b[0;32m--> 546\u001b[0;31m         \u001b[0;32mimport\u001b[0m \u001b[0mfiftyone\u001b[0m\u001b[0;34m.\u001b[0m\u001b[0mutils\u001b[0m\u001b[0;34m.\u001b[0m\u001b[0myolo\u001b[0m \u001b[0;32mas\u001b[0m \u001b[0mfouy\u001b[0m\u001b[0;34m\u001b[0m\u001b[0;34m\u001b[0m\u001b[0m\n\u001b[0m\u001b[1;32m    547\u001b[0m \u001b[0;34m\u001b[0m\u001b[0m\n\u001b[1;32m    548\u001b[0m         \u001b[0;32mreturn\u001b[0m \u001b[0mfouy\u001b[0m\u001b[0;34m.\u001b[0m\u001b[0mYOLOv5DatasetExporter\u001b[0m\u001b[0;34m\u001b[0m\u001b[0;34m\u001b[0m\u001b[0m\n",
      "\u001b[0;32m~/miniconda3/envs/dhp/lib/python3.7/site-packages/fiftyone/utils/yolo.py\u001b[0m in \u001b[0;36m<module>\u001b[0;34m\u001b[0m\n\u001b[1;32m     10\u001b[0m \u001b[0;32mimport\u001b[0m \u001b[0mwarnings\u001b[0m\u001b[0;34m\u001b[0m\u001b[0;34m\u001b[0m\u001b[0m\n\u001b[1;32m     11\u001b[0m \u001b[0;34m\u001b[0m\u001b[0m\n\u001b[0;32m---> 12\u001b[0;31m \u001b[0;32mimport\u001b[0m \u001b[0myaml\u001b[0m\u001b[0;34m\u001b[0m\u001b[0;34m\u001b[0m\u001b[0m\n\u001b[0m\u001b[1;32m     13\u001b[0m \u001b[0;34m\u001b[0m\u001b[0m\n\u001b[1;32m     14\u001b[0m \u001b[0;32mimport\u001b[0m \u001b[0meta\u001b[0m\u001b[0;34m.\u001b[0m\u001b[0mcore\u001b[0m\u001b[0;34m.\u001b[0m\u001b[0mutils\u001b[0m \u001b[0;32mas\u001b[0m \u001b[0metau\u001b[0m\u001b[0;34m\u001b[0m\u001b[0;34m\u001b[0m\u001b[0m\n",
      "\u001b[0;32m~/miniconda3/envs/dhp/lib/python3.7/site-packages/yaml/__init__.py\u001b[0m in \u001b[0;36m<module>\u001b[0;34m\u001b[0m\n\u001b[1;32m     11\u001b[0m \u001b[0m__version__\u001b[0m \u001b[0;34m=\u001b[0m \u001b[0;34m'6.0'\u001b[0m\u001b[0;34m\u001b[0m\u001b[0;34m\u001b[0m\u001b[0m\n\u001b[1;32m     12\u001b[0m \u001b[0;32mtry\u001b[0m\u001b[0;34m:\u001b[0m\u001b[0;34m\u001b[0m\u001b[0;34m\u001b[0m\u001b[0m\n\u001b[0;32m---> 13\u001b[0;31m     \u001b[0;32mfrom\u001b[0m \u001b[0;34m.\u001b[0m\u001b[0mcyaml\u001b[0m \u001b[0;32mimport\u001b[0m \u001b[0;34m*\u001b[0m\u001b[0;34m\u001b[0m\u001b[0;34m\u001b[0m\u001b[0m\n\u001b[0m\u001b[1;32m     14\u001b[0m     \u001b[0m__with_libyaml__\u001b[0m \u001b[0;34m=\u001b[0m \u001b[0;32mTrue\u001b[0m\u001b[0;34m\u001b[0m\u001b[0;34m\u001b[0m\u001b[0m\n\u001b[1;32m     15\u001b[0m \u001b[0;32mexcept\u001b[0m \u001b[0mImportError\u001b[0m\u001b[0;34m:\u001b[0m\u001b[0;34m\u001b[0m\u001b[0;34m\u001b[0m\u001b[0m\n",
      "\u001b[0;32m~/miniconda3/envs/dhp/lib/python3.7/site-packages/yaml/cyaml.py\u001b[0m in \u001b[0;36m<module>\u001b[0;34m\u001b[0m\n\u001b[1;32m      5\u001b[0m ]\n\u001b[1;32m      6\u001b[0m \u001b[0;34m\u001b[0m\u001b[0m\n\u001b[0;32m----> 7\u001b[0;31m \u001b[0;32mfrom\u001b[0m \u001b[0myaml\u001b[0m\u001b[0;34m.\u001b[0m\u001b[0m_yaml\u001b[0m \u001b[0;32mimport\u001b[0m \u001b[0mCParser\u001b[0m\u001b[0;34m,\u001b[0m \u001b[0mCEmitter\u001b[0m\u001b[0;34m\u001b[0m\u001b[0;34m\u001b[0m\u001b[0m\n\u001b[0m\u001b[1;32m      8\u001b[0m \u001b[0;34m\u001b[0m\u001b[0m\n\u001b[1;32m      9\u001b[0m \u001b[0;32mfrom\u001b[0m \u001b[0;34m.\u001b[0m\u001b[0mconstructor\u001b[0m \u001b[0;32mimport\u001b[0m \u001b[0;34m*\u001b[0m\u001b[0;34m\u001b[0m\u001b[0;34m\u001b[0m\u001b[0m\n",
      "\u001b[0;32m~/miniconda3/envs/dhp/lib/python3.7/importlib/_bootstrap.py\u001b[0m in \u001b[0;36mparent\u001b[0;34m(self)\u001b[0m\n",
      "\u001b[0;31mKeyboardInterrupt\u001b[0m: "
     ]
    }
   ],
   "source": [
    "# Use when any change applied to dataset\n",
    "for split in view.count_sample_tags().keys():\n",
    "    print(f'Exporting {split}')\n",
    "    split_view = view.match_tags(split)\n",
    "\n",
    "    # Export the dataset\n",
    "    split_view.export(\n",
    "        export_dir=config.EXPORT_DIR,\n",
    "        dataset_type=config.EXPORT_DATASET_TYPE,\n",
    "        label_field=config.LABEL_FIELD,\n",
    "        classes=config.CLASSES_OF_INTEREST,\n",
    "        split=split,\n",
    "    )\n",
    "dataset.count_sample_tags()"
   ]
  }
 ],
 "metadata": {
  "kernelspec": {
   "display_name": "Python 3 (ipykernel)",
   "language": "python",
   "name": "python3"
  },
  "language_info": {
   "codemirror_mode": {
    "name": "ipython",
    "version": 3
   },
   "file_extension": ".py",
   "mimetype": "text/x-python",
   "name": "python",
   "nbconvert_exporter": "python",
   "pygments_lexer": "ipython3",
   "version": "3.7.11"
  }
 },
 "nbformat": 4,
 "nbformat_minor": 5
}
